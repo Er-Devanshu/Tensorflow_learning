{
  "cells": [
    {
      "cell_type": "markdown",
      "metadata": {
        "id": "view-in-github",
        "colab_type": "text"
      },
      "source": [
        "<a href=\"https://colab.research.google.com/github/Er-Devanshu/Tensorflow_learning/blob/main/MoViNet_for_streaming_action_recognition_.ipynb\" target=\"_parent\"><img src=\"https://colab.research.google.com/assets/colab-badge.svg\" alt=\"Open In Colab\"/></a>"
      ]
    },
    {
      "cell_type": "markdown",
      "metadata": {
        "id": "-vxk2Kbc_KSP"
      },
      "source": [
        "This tutorial demonstrates how to use a pretrained video classification model to classify an activity (such as dancing, swimming, biking etc) in the given video.   \n",
        "\n",
        "The model architecture used in this tutorial is called [MoViNet](https://arxiv.org/pdf/2103.11511.pdf) (Mobile Video Networks). MoVieNets are a family of efficient video classification models trained on huge dataset ([Kinetics 600](https://deepmind.com/research/open-source/kinetics)).\n",
        "\n",
        "In contrast to the [i3d models](https://tfhub.dev/s?q=i3d-kinetics) available on TF Hub, MoViNets also support frame-by-frame inference on streaming video.\n",
        "\n",
        "The pretrained models are available from [TF Hub](https://tfhub.dev/google/collections/movinet/1). The TF Hub collection also includes quantized models optimized for [TFLite](https://tensorflow.org/lite).\n",
        "\n",
        "The source for these models is available in the [TensorFlow Model Garden](https://github.com/tensorflow/models/tree/master/official/projects/movinet). This includes a [longer version of this tutorial](https://colab.sandbox.google.com/github/tensorflow/models/blob/master/official/projects/movinet/movinet_tutorial.ipynb) that also covers building and fine-tuning a MoViNet model.\n",
        "\n",
        "This MoViNet tutorial is part of a series of TensorFlow video tutorials. Here are the other three tutorials:\n",
        "\n",
        "- [Load video data](https://www.tensorflow.org/tutorials/load_data/video): This tutorial explains how to load and preprocess video data into a TensorFlow dataset pipeline from scratch.\n",
        "- [Build a 3D CNN model for video classification](https://www.tensorflow.org/tutorials/video/video_classification). Note that this tutorial uses a (2+1)D CNN that decomposes the spatial and temporal aspects of 3D data; if you are using volumetric data such as an MRI scan, consider using a 3D CNN instead of a (2+1)D CNN.\n",
        "- [Transfer learning for video classification with MoViNet](https://www.tensorflow.org/tutorials/video/transfer_learning_with_movinet): This tutorial explains how to use a pre-trained video classification model trained on a different dataset with the UCF-101 dataset.\n"
      ]
    },
    {
      "cell_type": "markdown",
      "metadata": {
        "id": "3E96e1UKQ8uR"
      },
      "source": [
        "![jumping jacks plot](https://storage.googleapis.com/tf_model_garden/vision/movinet/artifacts/jumpingjacks_plot.gif)"
      ]
    },
    {
      "cell_type": "markdown",
      "metadata": {
        "id": "8_oLnvJy7kz5"
      },
      "source": [
        "## Setup\n",
        "\n",
        "For inference on smaller models (A0-A2), CPU is sufficient for this Colab."
      ]
    },
    {
      "cell_type": "code",
      "execution_count": 1,
      "metadata": {
        "id": "GUgUMGmY1yq-",
        "colab": {
          "base_uri": "https://localhost:8080/"
        },
        "outputId": "560c99a0-e995-45c9-d20c-205592291887"
      },
      "outputs": [
        {
          "output_type": "stream",
          "name": "stdout",
          "text": [
            "Reading package lists... Done\n",
            "Building dependency tree... Done\n",
            "Reading state information... Done\n",
            "ffmpeg is already the newest version (7:4.4.2-0ubuntu0.22.04.1).\n",
            "0 upgraded, 0 newly installed, 0 to remove and 49 not upgraded.\n"
          ]
        }
      ],
      "source": [
        "!sudo apt install -y ffmpeg\n",
        "!pip install -q mediapy"
      ]
    },
    {
      "cell_type": "code",
      "execution_count": 2,
      "metadata": {
        "id": "s3khsunT7kWa",
        "colab": {
          "base_uri": "https://localhost:8080/"
        },
        "outputId": "ff512092-ded1-4abe-e458-afb76e3a1770"
      },
      "outputs": [
        {
          "output_type": "stream",
          "name": "stdout",
          "text": [
            "\u001b[31mERROR: pip's dependency resolver does not currently take into account all the packages that are installed. This behaviour is the source of the following dependency conflicts.\n",
            "albucore 0.0.16 requires opencv-python-headless>=4.9.0.80, but you have opencv-python-headless 3.4.18.65 which is incompatible.\n",
            "albumentations 1.4.15 requires opencv-python-headless>=4.9.0.80, but you have opencv-python-headless 3.4.18.65 which is incompatible.\u001b[0m\u001b[31m\n",
            "\u001b[0m"
          ]
        }
      ],
      "source": [
        "!pip uninstall -q -y opencv-python-headless\n",
        "!pip install -q \"opencv-python-headless<4.3\""
      ]
    },
    {
      "cell_type": "code",
      "execution_count": 3,
      "metadata": {
        "id": "dI_1csl6Q-gH"
      },
      "outputs": [],
      "source": [
        "# Import libraries\n",
        "import pathlib\n",
        "\n",
        "import matplotlib as mpl\n",
        "import matplotlib.pyplot as plt\n",
        "import mediapy as media\n",
        "import numpy as np\n",
        "import PIL\n",
        "\n",
        "import tensorflow as tf\n",
        "import tensorflow_hub as hub\n",
        "import tqdm\n",
        "\n",
        "mpl.rcParams.update({\n",
        "    'font.size': 10,\n",
        "})"
      ]
    },
    {
      "cell_type": "markdown",
      "metadata": {
        "id": "Pn8K9oWbmREi"
      },
      "source": [
        "Get the kinetics 600 label list, and print the first few labels:"
      ]
    },
    {
      "cell_type": "code",
      "execution_count": 4,
      "metadata": {
        "id": "2VJUAcjhkfb3",
        "colab": {
          "base_uri": "https://localhost:8080/"
        },
        "outputId": "6cd364cb-0880-4cfb-9d7d-32adf75fe1dc"
      },
      "outputs": [
        {
          "output_type": "execute_result",
          "data": {
            "text/plain": [
              "array(['abseiling', 'acting in play', 'adjusting glasses', 'air drumming',\n",
              "       'alligator wrestling', 'answering questions', 'applauding',\n",
              "       'applying cream', 'archaeological excavation', 'archery',\n",
              "       'arguing', 'arm wrestling', 'arranging flowers',\n",
              "       'assembling bicycle', 'assembling computer',\n",
              "       'attending conference', 'auctioning', 'backflip (human)',\n",
              "       'baking cookies', 'bandaging'], dtype='<U49')"
            ]
          },
          "metadata": {},
          "execution_count": 4
        }
      ],
      "source": [
        "labels_path = tf.keras.utils.get_file(\n",
        "    fname='labels.txt',\n",
        "    origin='https://raw.githubusercontent.com/tensorflow/models/f8af2291cced43fc9f1d9b41ddbf772ae7b0d7d2/official/projects/movinet/files/kinetics_600_labels.txt'\n",
        ")\n",
        "labels_path = pathlib.Path(labels_path)\n",
        "\n",
        "lines = labels_path.read_text().splitlines()\n",
        "KINETICS_600_LABELS = np.array([line.strip() for line in lines])\n",
        "KINETICS_600_LABELS[:20]"
      ]
    },
    {
      "cell_type": "markdown",
      "metadata": {
        "id": "G9BU5XsOmaq3"
      },
      "source": [
        "To provide a simple example video for classification, we can load a short gif of jumping jacks being performed.\n",
        "\n",
        "![jumping jacks](https://github.com/tensorflow/models/raw/f8af2291cced43fc9f1d9b41ddbf772ae7b0d7d2/official/projects/movinet/files/jumpingjack.gif)\n",
        "\n",
        "Attribution: Footage shared by [Coach Bobby Bluford](https://www.youtube.com/watch?v=-AxHpj-EuPg) on YouTube under the CC-BY license."
      ]
    },
    {
      "cell_type": "markdown",
      "metadata": {
        "id": "8aFKMbr4mfSg"
      },
      "source": [
        "Download the gif."
      ]
    },
    {
      "cell_type": "code",
      "execution_count": 5,
      "metadata": {
        "id": "w62jqXhaSb15"
      },
      "outputs": [],
      "source": [
        "jumpingjack_url = 'https://github.com/tensorflow/models/raw/f8af2291cced43fc9f1d9b41ddbf772ae7b0d7d2/official/projects/movinet/files/jumpingjack.gif'\n",
        "jumpingjack_path = tf.keras.utils.get_file(\n",
        "    fname='jumpingjack.gif',\n",
        "    origin=jumpingjack_url,\n",
        "    cache_dir='.', cache_subdir='.',\n",
        ")"
      ]
    },
    {
      "cell_type": "markdown",
      "metadata": {
        "id": "hdRS_22PebfB"
      },
      "source": [
        "Define a function to read a gif file into a `tf.Tensor`:"
      ]
    },
    {
      "cell_type": "code",
      "execution_count": 6,
      "metadata": {
        "id": "mPhmCu6oSi5f"
      },
      "outputs": [],
      "source": [
        "#@title\n",
        "# Read and process a video\n",
        "def load_gif(file_path, image_size=(224, 224)):\n",
        "  \"\"\"Loads a gif file into a TF tensor.\n",
        "\n",
        "  Use images resized to match what's expected by your model.\n",
        "  The model pages say the \"A2\" models expect 224 x 224 images at 5 fps\n",
        "\n",
        "  Args:\n",
        "    file_path: path to the location of a gif file.\n",
        "    image_size: a tuple of target size.\n",
        "\n",
        "  Returns:\n",
        "    a video of the gif file\n",
        "  \"\"\"\n",
        "  # Load a gif file, convert it to a TF tensor\n",
        "  raw = tf.io.read_file(file_path)\n",
        "  video = tf.io.decode_gif(raw)\n",
        "  # Resize the video\n",
        "  video = tf.image.resize(video, image_size)\n",
        "  # change dtype to a float32\n",
        "  # Hub models always want images normalized to [0,1]\n",
        "  # ref: https://www.tensorflow.org/hub/common_signatures/images#input\n",
        "  video = tf.cast(video, tf.float32) / 255.\n",
        "  return video"
      ]
    },
    {
      "cell_type": "markdown",
      "metadata": {
        "id": "Xx7cZm8vpDJm"
      },
      "source": [
        "The video's shape is `(frames, height, width, colors)`"
      ]
    },
    {
      "cell_type": "code",
      "execution_count": 7,
      "metadata": {
        "id": "E7k_PmbFSkHv",
        "colab": {
          "base_uri": "https://localhost:8080/"
        },
        "outputId": "ea19cbf5-dda2-453d-e477-5bb6d05df4e1"
      },
      "outputs": [
        {
          "output_type": "execute_result",
          "data": {
            "text/plain": [
              "TensorShape([13, 224, 224, 3])"
            ]
          },
          "metadata": {},
          "execution_count": 7
        }
      ],
      "source": [
        "jumpingjack=load_gif(jumpingjack_path)\n",
        "jumpingjack.shape"
      ]
    },
    {
      "cell_type": "markdown",
      "metadata": {
        "id": "LcKFy3oedBvF"
      },
      "source": [
        "## How to use the model\n",
        "\n",
        "This section contains a walkthrough showing how to use the [models from TensorFlow Hub](https://tfhub.dev/google/collections/movinet/1). If you just want to see the models in action, skip to the next section.\n",
        "\n",
        "There are two versions of each model: `base` and `streaming`.\n",
        "\n",
        "* The `base` version takes a video as input, and returns the probabilities averaged over the frames.\n",
        "* The `streaming` version takes a video frame and an RNN state as input, and returns the predictions for that frame, and the new RNN state."
      ]
    },
    {
      "cell_type": "markdown",
      "metadata": {
        "id": "WQO6Zb8Hm-9q"
      },
      "source": [
        "### The base model"
      ]
    },
    {
      "cell_type": "markdown",
      "metadata": {
        "id": "RfnYU20JnPqp"
      },
      "source": [
        "Download the [pretrained model from TensorFlow Hub](https://tfhub.dev/tensorflow/movinet/a2/base/kinetics-600/classification/3)."
      ]
    },
    {
      "cell_type": "code",
      "execution_count": 8,
      "metadata": {
        "id": "FnpPo6HSR7qv",
        "colab": {
          "base_uri": "https://localhost:8080/"
        },
        "outputId": "a74a9259-da8a-49e5-e1a3-9fed76d4b431"
      },
      "outputs": [
        {
          "output_type": "stream",
          "name": "stdout",
          "text": [
            "CPU times: user 24.8 s, sys: 1.03 s, total: 25.8 s\n",
            "Wall time: 35.6 s\n"
          ]
        }
      ],
      "source": [
        "%%time\n",
        "id = 'a2'\n",
        "mode = 'base'\n",
        "version = '3'\n",
        "hub_url = f'https://tfhub.dev/tensorflow/movinet/{id}/{mode}/kinetics-600/classification/{version}'\n",
        "model = hub.load(hub_url)"
      ]
    },
    {
      "cell_type": "markdown",
      "metadata": {
        "id": "jvaFwKhxndmb"
      },
      "source": [
        "This version of the model has one `signature`. It takes an `image` argument which is a `tf.float32` with shape `(batch, frames, height, width, colors)`. It returns a dictionary containing one output: A `tf.float32` tensor of logits with shape `(batch, classes)`."
      ]
    },
    {
      "cell_type": "code",
      "execution_count": 9,
      "metadata": {
        "id": "7GzZ4Y03T_gH",
        "colab": {
          "base_uri": "https://localhost:8080/"
        },
        "outputId": "9b40aa10-56b5-41e8-9401-7af2b3633ec3"
      },
      "outputs": [
        {
          "output_type": "stream",
          "name": "stdout",
          "text": [
            "Input Parameters:\n",
            "  image (KEYWORD_ONLY): TensorSpec(shape=(None, None, None, None, 3), dtype=tf.float32, name='image')\n",
            "Output Type:\n",
            "  Dict[['classifier_head', TensorSpec(shape=(None, 600), dtype=tf.float32, name='classifier_head')]]\n",
            "Captures:\n",
            "  132949350174032: TensorSpec(shape=(), dtype=tf.resource, name=None)\n",
            "  132949350545392: TensorSpec(shape=(), dtype=tf.resource, name=None)\n",
            "  132949350545216: TensorSpec(shape=(), dtype=tf.resource, name=None)\n",
            "  132949350544864: TensorSpec(shape=(), dtype=tf.resource, name=None)\n",
            "  132949350545040: TensorSpec(shape=(), dtype=tf.resource, name=None)\n",
            "  132949350173680: TensorSpec(shape=(), dtype=tf.resource, name=None)\n",
            "  132949350544688: TensorSpec(shape=(), dtype=tf.resource, name=None)\n",
            "  132949350544160: TensorSpec(shape=(), dtype=tf.resource, name=None)\n",
            "  132949350544336: TensorSpec(shape=(), dtype=tf.resource, name=None)\n",
            "  132949350544512: TensorSpec(shape=(), dtype=tf.resource, name=None)\n",
            "  132949350173856: TensorSpec(shape=(), dtype=tf.resource, name=None)\n",
            "  132949350543984: TensorSpec(shape=(), dtype=tf.resource, name=None)\n",
            "  132949350543456: TensorSpec(shape=(), dtype=tf.resource, name=None)\n",
            "  132949350543808: TensorSpec(shape=(), dtype=tf.resource, name=None)\n",
            "  132949350543632: TensorSpec(shape=(), dtype=tf.resource, name=None)\n",
            "  132949350173328: TensorSpec(shape=(), dtype=tf.resource, name=None)\n",
            "  132949350173152: TensorSpec(shape=(), dtype=tf.resource, name=None)\n",
            "  132949350172976: TensorSpec(shape=(), dtype=tf.resource, name=None)\n",
            "  132949350172800: TensorSpec(shape=(), dtype=tf.resource, name=None)\n",
            "  132949350173504: TensorSpec(shape=(), dtype=tf.resource, name=None)\n",
            "  132949350543104: TensorSpec(shape=(), dtype=tf.resource, name=None)\n",
            "  132949350542928: TensorSpec(shape=(), dtype=tf.resource, name=None)\n",
            "  132949350542752: TensorSpec(shape=(), dtype=tf.resource, name=None)\n",
            "  132949350543280: TensorSpec(shape=(), dtype=tf.resource, name=None)\n",
            "  132949350172448: TensorSpec(shape=(), dtype=tf.resource, name=None)\n",
            "  132949350172624: TensorSpec(shape=(), dtype=tf.resource, name=None)\n",
            "  132949352755824: TensorSpec(shape=(), dtype=tf.resource, name=None)\n",
            "  132949352755648: TensorSpec(shape=(), dtype=tf.resource, name=None)\n",
            "  132949352755296: TensorSpec(shape=(), dtype=tf.resource, name=None)\n",
            "  132949352755472: TensorSpec(shape=(), dtype=tf.resource, name=None)\n",
            "  132949350172272: TensorSpec(shape=(), dtype=tf.resource, name=None)\n",
            "  132949350542048: TensorSpec(shape=(), dtype=tf.resource, name=None)\n",
            "  132949350542224: TensorSpec(shape=(), dtype=tf.resource, name=None)\n",
            "  132949350542576: TensorSpec(shape=(), dtype=tf.resource, name=None)\n",
            "  132949350542400: TensorSpec(shape=(), dtype=tf.resource, name=None)\n",
            "  132949350172096: TensorSpec(shape=(), dtype=tf.resource, name=None)\n",
            "  132949350541344: TensorSpec(shape=(), dtype=tf.resource, name=None)\n",
            "  132949350541872: TensorSpec(shape=(), dtype=tf.resource, name=None)\n",
            "  132949350541696: TensorSpec(shape=(), dtype=tf.resource, name=None)\n",
            "  132949350541520: TensorSpec(shape=(), dtype=tf.resource, name=None)\n",
            "  132949350171744: TensorSpec(shape=(), dtype=tf.resource, name=None)\n",
            "  132949350171568: TensorSpec(shape=(), dtype=tf.resource, name=None)\n",
            "  132949350171392: TensorSpec(shape=(), dtype=tf.resource, name=None)\n",
            "  132949350171216: TensorSpec(shape=(), dtype=tf.resource, name=None)\n",
            "  132949350171920: TensorSpec(shape=(), dtype=tf.resource, name=None)\n",
            "  132949350540992: TensorSpec(shape=(), dtype=tf.resource, name=None)\n",
            "  132949350540816: TensorSpec(shape=(), dtype=tf.resource, name=None)\n",
            "  132949350540640: TensorSpec(shape=(), dtype=tf.resource, name=None)\n",
            "  132949350541168: TensorSpec(shape=(), dtype=tf.resource, name=None)\n",
            "  132949350171040: TensorSpec(shape=(), dtype=tf.resource, name=None)\n",
            "  132949350170864: TensorSpec(shape=(), dtype=tf.resource, name=None)\n",
            "  132949350540288: TensorSpec(shape=(), dtype=tf.resource, name=None)\n",
            "  132949350540112: TensorSpec(shape=(), dtype=tf.resource, name=None)\n",
            "  132949350540464: TensorSpec(shape=(), dtype=tf.resource, name=None)\n",
            "  132949350539936: TensorSpec(shape=(), dtype=tf.resource, name=None)\n",
            "  132949350170688: TensorSpec(shape=(), dtype=tf.resource, name=None)\n",
            "  132949350539408: TensorSpec(shape=(), dtype=tf.resource, name=None)\n",
            "  132949350539232: TensorSpec(shape=(), dtype=tf.resource, name=None)\n",
            "  132949350539760: TensorSpec(shape=(), dtype=tf.resource, name=None)\n",
            "  132949350539584: TensorSpec(shape=(), dtype=tf.resource, name=None)\n",
            "  132949350350368: TensorSpec(shape=(), dtype=tf.resource, name=None)\n",
            "  132949350350192: TensorSpec(shape=(), dtype=tf.resource, name=None)\n",
            "  132949350350016: TensorSpec(shape=(), dtype=tf.resource, name=None)\n",
            "  132949350349840: TensorSpec(shape=(), dtype=tf.resource, name=None)\n",
            "  132949350350544: TensorSpec(shape=(), dtype=tf.resource, name=None)\n",
            "  132949350539056: TensorSpec(shape=(), dtype=tf.resource, name=None)\n",
            "  132949350538880: TensorSpec(shape=(), dtype=tf.resource, name=None)\n",
            "  132949350538704: TensorSpec(shape=(), dtype=tf.resource, name=None)\n",
            "  132949350538528: TensorSpec(shape=(), dtype=tf.resource, name=None)\n",
            "  132949350349664: TensorSpec(shape=(), dtype=tf.resource, name=None)\n",
            "  132949350349488: TensorSpec(shape=(), dtype=tf.resource, name=None)\n",
            "  132949350538352: TensorSpec(shape=(), dtype=tf.resource, name=None)\n",
            "  132949350538176: TensorSpec(shape=(), dtype=tf.resource, name=None)\n",
            "  132949350538000: TensorSpec(shape=(), dtype=tf.resource, name=None)\n",
            "  132949350537824: TensorSpec(shape=(), dtype=tf.resource, name=None)\n",
            "  132949350349312: TensorSpec(shape=(), dtype=tf.resource, name=None)\n",
            "  132949350537296: TensorSpec(shape=(), dtype=tf.resource, name=None)\n",
            "  132949350537120: TensorSpec(shape=(), dtype=tf.resource, name=None)\n",
            "  132949350537648: TensorSpec(shape=(), dtype=tf.resource, name=None)\n",
            "  132949350537472: TensorSpec(shape=(), dtype=tf.resource, name=None)\n",
            "  132949350348960: TensorSpec(shape=(), dtype=tf.resource, name=None)\n",
            "  132949350348784: TensorSpec(shape=(), dtype=tf.resource, name=None)\n",
            "  132949350348608: TensorSpec(shape=(), dtype=tf.resource, name=None)\n",
            "  132949350348432: TensorSpec(shape=(), dtype=tf.resource, name=None)\n",
            "  132949350349136: TensorSpec(shape=(), dtype=tf.resource, name=None)\n",
            "  132949350536592: TensorSpec(shape=(), dtype=tf.resource, name=None)\n",
            "  132949350536416: TensorSpec(shape=(), dtype=tf.resource, name=None)\n",
            "  132949350536944: TensorSpec(shape=(), dtype=tf.resource, name=None)\n",
            "  132949350536768: TensorSpec(shape=(), dtype=tf.resource, name=None)\n",
            "  132949350348080: TensorSpec(shape=(), dtype=tf.resource, name=None)\n",
            "  132949350348256: TensorSpec(shape=(), dtype=tf.resource, name=None)\n",
            "  132949352755120: TensorSpec(shape=(), dtype=tf.resource, name=None)\n",
            "  132949352754768: TensorSpec(shape=(), dtype=tf.resource, name=None)\n",
            "  132949352754416: TensorSpec(shape=(), dtype=tf.resource, name=None)\n",
            "  132949352754064: TensorSpec(shape=(), dtype=tf.resource, name=None)\n",
            "  132949350347024: TensorSpec(shape=(), dtype=tf.resource, name=None)\n",
            "  132949350536064: TensorSpec(shape=(), dtype=tf.resource, name=None)\n",
            "  132949350535888: TensorSpec(shape=(), dtype=tf.resource, name=None)\n",
            "  132949350535712: TensorSpec(shape=(), dtype=tf.resource, name=None)\n",
            "  132949350536240: TensorSpec(shape=(), dtype=tf.resource, name=None)\n",
            "  132949350346848: TensorSpec(shape=(), dtype=tf.resource, name=None)\n",
            "  132949350535184: TensorSpec(shape=(), dtype=tf.resource, name=None)\n",
            "  132949350535008: TensorSpec(shape=(), dtype=tf.resource, name=None)\n",
            "  132949350535536: TensorSpec(shape=(), dtype=tf.resource, name=None)\n",
            "  132949350535360: TensorSpec(shape=(), dtype=tf.resource, name=None)\n",
            "  132949350347904: TensorSpec(shape=(), dtype=tf.resource, name=None)\n",
            "  132949350347728: TensorSpec(shape=(), dtype=tf.resource, name=None)\n",
            "  132949350347552: TensorSpec(shape=(), dtype=tf.resource, name=None)\n",
            "  132949350347376: TensorSpec(shape=(), dtype=tf.resource, name=None)\n",
            "  132949350346672: TensorSpec(shape=(), dtype=tf.resource, name=None)\n",
            "  132949350534304: TensorSpec(shape=(), dtype=tf.resource, name=None)\n",
            "  132949350534832: TensorSpec(shape=(), dtype=tf.resource, name=None)\n",
            "  132949350534656: TensorSpec(shape=(), dtype=tf.resource, name=None)\n",
            "  132949350534480: TensorSpec(shape=(), dtype=tf.resource, name=None)\n",
            "  132949350347200: TensorSpec(shape=(), dtype=tf.resource, name=None)\n",
            "  132949350346496: TensorSpec(shape=(), dtype=tf.resource, name=None)\n",
            "  132949350533600: TensorSpec(shape=(), dtype=tf.resource, name=None)\n",
            "  132949350534128: TensorSpec(shape=(), dtype=tf.resource, name=None)\n",
            "  132949350533952: TensorSpec(shape=(), dtype=tf.resource, name=None)\n",
            "  132949350533776: TensorSpec(shape=(), dtype=tf.resource, name=None)\n",
            "  132949350346320: TensorSpec(shape=(), dtype=tf.resource, name=None)\n",
            "  132949350533248: TensorSpec(shape=(), dtype=tf.resource, name=None)\n",
            "  132949350533072: TensorSpec(shape=(), dtype=tf.resource, name=None)\n",
            "  132949350532896: TensorSpec(shape=(), dtype=tf.resource, name=None)\n",
            "  132949350533424: TensorSpec(shape=(), dtype=tf.resource, name=None)\n",
            "  132949350345968: TensorSpec(shape=(), dtype=tf.resource, name=None)\n",
            "  132949350345792: TensorSpec(shape=(), dtype=tf.resource, name=None)\n",
            "  132949350345616: TensorSpec(shape=(), dtype=tf.resource, name=None)\n",
            "  132949350345440: TensorSpec(shape=(), dtype=tf.resource, name=None)\n",
            "  132949350346144: TensorSpec(shape=(), dtype=tf.resource, name=None)\n",
            "  132949350532368: TensorSpec(shape=(), dtype=tf.resource, name=None)\n",
            "  132949350532192: TensorSpec(shape=(), dtype=tf.resource, name=None)\n",
            "  132949350532720: TensorSpec(shape=(), dtype=tf.resource, name=None)\n",
            "  132949350532544: TensorSpec(shape=(), dtype=tf.resource, name=None)\n",
            "  132949350345264: TensorSpec(shape=(), dtype=tf.resource, name=None)\n",
            "  132949350345088: TensorSpec(shape=(), dtype=tf.resource, name=None)\n",
            "  132949350531664: TensorSpec(shape=(), dtype=tf.resource, name=None)\n",
            "  132949350531488: TensorSpec(shape=(), dtype=tf.resource, name=None)\n",
            "  132949350532016: TensorSpec(shape=(), dtype=tf.resource, name=None)\n",
            "  132949350531840: TensorSpec(shape=(), dtype=tf.resource, name=None)\n",
            "  132949350344912: TensorSpec(shape=(), dtype=tf.resource, name=None)\n",
            "  132949350531312: TensorSpec(shape=(), dtype=tf.resource, name=None)\n",
            "  132949350531136: TensorSpec(shape=(), dtype=tf.resource, name=None)\n",
            "  132949437284048: TensorSpec(shape=(), dtype=tf.resource, name=None)\n",
            "  132949437283872: TensorSpec(shape=(), dtype=tf.resource, name=None)\n",
            "  132949350344560: TensorSpec(shape=(), dtype=tf.resource, name=None)\n",
            "  132949350344384: TensorSpec(shape=(), dtype=tf.resource, name=None)\n",
            "  132949350344208: TensorSpec(shape=(), dtype=tf.resource, name=None)\n",
            "  132949350344032: TensorSpec(shape=(), dtype=tf.resource, name=None)\n",
            "  132949350344736: TensorSpec(shape=(), dtype=tf.resource, name=None)\n",
            "  132949437283520: TensorSpec(shape=(), dtype=tf.resource, name=None)\n",
            "  132949437283344: TensorSpec(shape=(), dtype=tf.resource, name=None)\n",
            "  132949437283168: TensorSpec(shape=(), dtype=tf.resource, name=None)\n",
            "  132949437283696: TensorSpec(shape=(), dtype=tf.resource, name=None)\n",
            "  132949350343856: TensorSpec(shape=(), dtype=tf.resource, name=None)\n",
            "  132949350343680: TensorSpec(shape=(), dtype=tf.resource, name=None)\n",
            "  132949437282640: TensorSpec(shape=(), dtype=tf.resource, name=None)\n",
            "  132949437282464: TensorSpec(shape=(), dtype=tf.resource, name=None)\n",
            "  132949437282992: TensorSpec(shape=(), dtype=tf.resource, name=None)\n",
            "  132949437282816: TensorSpec(shape=(), dtype=tf.resource, name=None)\n",
            "  132949350343504: TensorSpec(shape=(), dtype=tf.resource, name=None)\n",
            "  132949437281936: TensorSpec(shape=(), dtype=tf.resource, name=None)\n",
            "  132949437281760: TensorSpec(shape=(), dtype=tf.resource, name=None)\n",
            "  132949437282288: TensorSpec(shape=(), dtype=tf.resource, name=None)\n",
            "  132949437282112: TensorSpec(shape=(), dtype=tf.resource, name=None)\n",
            "  132949350343152: TensorSpec(shape=(), dtype=tf.resource, name=None)\n",
            "  132949350342976: TensorSpec(shape=(), dtype=tf.resource, name=None)\n",
            "  132949350342800: TensorSpec(shape=(), dtype=tf.resource, name=None)\n",
            "  132949350342624: TensorSpec(shape=(), dtype=tf.resource, name=None)\n",
            "  132949350343328: TensorSpec(shape=(), dtype=tf.resource, name=None)\n",
            "  132949437281584: TensorSpec(shape=(), dtype=tf.resource, name=None)\n",
            "  132949437281408: TensorSpec(shape=(), dtype=tf.resource, name=None)\n",
            "  132949437281232: TensorSpec(shape=(), dtype=tf.resource, name=None)\n",
            "  132949437281056: TensorSpec(shape=(), dtype=tf.resource, name=None)\n",
            "  132949350342448: TensorSpec(shape=(), dtype=tf.resource, name=None)\n",
            "  132949350342272: TensorSpec(shape=(), dtype=tf.resource, name=None)\n",
            "  132949437280704: TensorSpec(shape=(), dtype=tf.resource, name=None)\n",
            "  132949437280528: TensorSpec(shape=(), dtype=tf.resource, name=None)\n",
            "  132949437280352: TensorSpec(shape=(), dtype=tf.resource, name=None)\n",
            "  132949437280880: TensorSpec(shape=(), dtype=tf.resource, name=None)\n",
            "  132949350342096: TensorSpec(shape=(), dtype=tf.resource, name=None)\n",
            "  132949437279824: TensorSpec(shape=(), dtype=tf.resource, name=None)\n",
            "  132949437279648: TensorSpec(shape=(), dtype=tf.resource, name=None)\n",
            "  132949437280176: TensorSpec(shape=(), dtype=tf.resource, name=None)\n",
            "  132949437280000: TensorSpec(shape=(), dtype=tf.resource, name=None)\n",
            "  132949350341744: TensorSpec(shape=(), dtype=tf.resource, name=None)\n",
            "  132949350341568: TensorSpec(shape=(), dtype=tf.resource, name=None)\n",
            "  132949350341392: TensorSpec(shape=(), dtype=tf.resource, name=None)\n",
            "  132949350341216: TensorSpec(shape=(), dtype=tf.resource, name=None)\n",
            "  132949350341920: TensorSpec(shape=(), dtype=tf.resource, name=None)\n",
            "  132949437278944: TensorSpec(shape=(), dtype=tf.resource, name=None)\n",
            "  132949437279472: TensorSpec(shape=(), dtype=tf.resource, name=None)\n",
            "  132949437279296: TensorSpec(shape=(), dtype=tf.resource, name=None)\n",
            "  132949437279120: TensorSpec(shape=(), dtype=tf.resource, name=None)\n",
            "  132949350340864: TensorSpec(shape=(), dtype=tf.resource, name=None)\n",
            "  132949350341040: TensorSpec(shape=(), dtype=tf.resource, name=None)\n",
            "  132949352753712: TensorSpec(shape=(), dtype=tf.resource, name=None)\n",
            "  132949352752656: TensorSpec(shape=(), dtype=tf.resource, name=None)\n",
            "  132949352753360: TensorSpec(shape=(), dtype=tf.resource, name=None)\n",
            "  132949352753008: TensorSpec(shape=(), dtype=tf.resource, name=None)\n",
            "  132949350340688: TensorSpec(shape=(), dtype=tf.resource, name=None)\n",
            "  132949437278592: TensorSpec(shape=(), dtype=tf.resource, name=None)\n",
            "  132949437278416: TensorSpec(shape=(), dtype=tf.resource, name=None)\n",
            "  132949437278240: TensorSpec(shape=(), dtype=tf.resource, name=None)\n",
            "  132949437278768: TensorSpec(shape=(), dtype=tf.resource, name=None)\n",
            "  132949350340512: TensorSpec(shape=(), dtype=tf.resource, name=None)\n",
            "  132949437277712: TensorSpec(shape=(), dtype=tf.resource, name=None)\n",
            "  132949437277536: TensorSpec(shape=(), dtype=tf.resource, name=None)\n",
            "  132949437278064: TensorSpec(shape=(), dtype=tf.resource, name=None)\n",
            "  132949437277888: TensorSpec(shape=(), dtype=tf.resource, name=None)\n",
            "  132949350340160: TensorSpec(shape=(), dtype=tf.resource, name=None)\n",
            "  132949350339984: TensorSpec(shape=(), dtype=tf.resource, name=None)\n",
            "  132949350339808: TensorSpec(shape=(), dtype=tf.resource, name=None)\n",
            "  132949350339632: TensorSpec(shape=(), dtype=tf.resource, name=None)\n",
            "  132949350340336: TensorSpec(shape=(), dtype=tf.resource, name=None)\n",
            "  132949437277360: TensorSpec(shape=(), dtype=tf.resource, name=None)\n",
            "  132949437277184: TensorSpec(shape=(), dtype=tf.resource, name=None)\n",
            "  132949437277008: TensorSpec(shape=(), dtype=tf.resource, name=None)\n",
            "  132949437276832: TensorSpec(shape=(), dtype=tf.resource, name=None)\n",
            "  132949350339456: TensorSpec(shape=(), dtype=tf.resource, name=None)\n",
            "  132949350339280: TensorSpec(shape=(), dtype=tf.resource, name=None)\n",
            "  132949437276656: TensorSpec(shape=(), dtype=tf.resource, name=None)\n",
            "  132949437276480: TensorSpec(shape=(), dtype=tf.resource, name=None)\n",
            "  132949437276304: TensorSpec(shape=(), dtype=tf.resource, name=None)\n",
            "  132949437276128: TensorSpec(shape=(), dtype=tf.resource, name=None)\n",
            "  132949350339104: TensorSpec(shape=(), dtype=tf.resource, name=None)\n",
            "  132949437275776: TensorSpec(shape=(), dtype=tf.resource, name=None)\n",
            "  132949437275600: TensorSpec(shape=(), dtype=tf.resource, name=None)\n",
            "  132949437275424: TensorSpec(shape=(), dtype=tf.resource, name=None)\n",
            "  132949437275952: TensorSpec(shape=(), dtype=tf.resource, name=None)\n",
            "  132949350338752: TensorSpec(shape=(), dtype=tf.resource, name=None)\n",
            "  132949350338576: TensorSpec(shape=(), dtype=tf.resource, name=None)\n",
            "  132949350338400: TensorSpec(shape=(), dtype=tf.resource, name=None)\n",
            "  132949350338224: TensorSpec(shape=(), dtype=tf.resource, name=None)\n",
            "  132949350338928: TensorSpec(shape=(), dtype=tf.resource, name=None)\n",
            "  132949437274896: TensorSpec(shape=(), dtype=tf.resource, name=None)\n",
            "  132949437274720: TensorSpec(shape=(), dtype=tf.resource, name=None)\n",
            "  132949437275248: TensorSpec(shape=(), dtype=tf.resource, name=None)\n",
            "  132949437275072: TensorSpec(shape=(), dtype=tf.resource, name=None)\n",
            "  132949350338048: TensorSpec(shape=(), dtype=tf.resource, name=None)\n",
            "  132949350337872: TensorSpec(shape=(), dtype=tf.resource, name=None)\n",
            "  132949437274192: TensorSpec(shape=(), dtype=tf.resource, name=None)\n",
            "  132949437274016: TensorSpec(shape=(), dtype=tf.resource, name=None)\n",
            "  132949437274544: TensorSpec(shape=(), dtype=tf.resource, name=None)\n",
            "  132949437274368: TensorSpec(shape=(), dtype=tf.resource, name=None)\n",
            "  132949350337696: TensorSpec(shape=(), dtype=tf.resource, name=None)\n",
            "  132949437273840: TensorSpec(shape=(), dtype=tf.resource, name=None)\n",
            "  132949437273664: TensorSpec(shape=(), dtype=tf.resource, name=None)\n",
            "  132949437273488: TensorSpec(shape=(), dtype=tf.resource, name=None)\n",
            "  132949437273312: TensorSpec(shape=(), dtype=tf.resource, name=None)\n",
            "  132949350337344: TensorSpec(shape=(), dtype=tf.resource, name=None)\n",
            "  132949350337168: TensorSpec(shape=(), dtype=tf.resource, name=None)\n",
            "  132949350336992: TensorSpec(shape=(), dtype=tf.resource, name=None)\n",
            "  132949350336816: TensorSpec(shape=(), dtype=tf.resource, name=None)\n",
            "  132949350337520: TensorSpec(shape=(), dtype=tf.resource, name=None)\n",
            "  132949437272960: TensorSpec(shape=(), dtype=tf.resource, name=None)\n",
            "  132949437272784: TensorSpec(shape=(), dtype=tf.resource, name=None)\n",
            "  132949437272608: TensorSpec(shape=(), dtype=tf.resource, name=None)\n",
            "  132949437273136: TensorSpec(shape=(), dtype=tf.resource, name=None)\n",
            "  132949350336640: TensorSpec(shape=(), dtype=tf.resource, name=None)\n",
            "  132949350336464: TensorSpec(shape=(), dtype=tf.resource, name=None)\n",
            "  132949437272080: TensorSpec(shape=(), dtype=tf.resource, name=None)\n",
            "  132949437271904: TensorSpec(shape=(), dtype=tf.resource, name=None)\n",
            "  132949437272432: TensorSpec(shape=(), dtype=tf.resource, name=None)\n",
            "  132949437272256: TensorSpec(shape=(), dtype=tf.resource, name=None)\n",
            "  132949350336288: TensorSpec(shape=(), dtype=tf.resource, name=None)\n",
            "  132949437271200: TensorSpec(shape=(), dtype=tf.resource, name=None)\n",
            "  132949437271728: TensorSpec(shape=(), dtype=tf.resource, name=None)\n",
            "  132949437271552: TensorSpec(shape=(), dtype=tf.resource, name=None)\n",
            "  132949437271376: TensorSpec(shape=(), dtype=tf.resource, name=None)\n",
            "  132949350335936: TensorSpec(shape=(), dtype=tf.resource, name=None)\n",
            "  132949350335760: TensorSpec(shape=(), dtype=tf.resource, name=None)\n",
            "  132949350335584: TensorSpec(shape=(), dtype=tf.resource, name=None)\n",
            "  132949350335408: TensorSpec(shape=(), dtype=tf.resource, name=None)\n",
            "  132949350336112: TensorSpec(shape=(), dtype=tf.resource, name=None)\n",
            "  132949437271024: TensorSpec(shape=(), dtype=tf.resource, name=None)\n",
            "  132949437270848: TensorSpec(shape=(), dtype=tf.resource, name=None)\n",
            "  132949437270672: TensorSpec(shape=(), dtype=tf.resource, name=None)\n",
            "  132949437270496: TensorSpec(shape=(), dtype=tf.resource, name=None)\n",
            "  132949350335232: TensorSpec(shape=(), dtype=tf.resource, name=None)\n",
            "  132949350448672: TensorSpec(shape=(), dtype=tf.resource, name=None)\n",
            "  132949437270144: TensorSpec(shape=(), dtype=tf.resource, name=None)\n",
            "  132949437269968: TensorSpec(shape=(), dtype=tf.resource, name=None)\n",
            "  132949437269792: TensorSpec(shape=(), dtype=tf.resource, name=None)\n",
            "  132949437270320: TensorSpec(shape=(), dtype=tf.resource, name=None)\n",
            "  132949350448496: TensorSpec(shape=(), dtype=tf.resource, name=None)\n",
            "  132949437269264: TensorSpec(shape=(), dtype=tf.resource, name=None)\n",
            "  132949437269088: TensorSpec(shape=(), dtype=tf.resource, name=None)\n",
            "  132949437269616: TensorSpec(shape=(), dtype=tf.resource, name=None)\n",
            "  132949437269440: TensorSpec(shape=(), dtype=tf.resource, name=None)\n",
            "  132949350335056: TensorSpec(shape=(), dtype=tf.resource, name=None)\n",
            "  132949350334880: TensorSpec(shape=(), dtype=tf.resource, name=None)\n",
            "  132949350334704: TensorSpec(shape=(), dtype=tf.resource, name=None)\n",
            "  132949350334528: TensorSpec(shape=(), dtype=tf.resource, name=None)\n",
            "  132949350448320: TensorSpec(shape=(), dtype=tf.resource, name=None)\n",
            "  132949437268912: TensorSpec(shape=(), dtype=tf.resource, name=None)\n",
            "  132949437268736: TensorSpec(shape=(), dtype=tf.resource, name=None)\n",
            "  132949437268560: TensorSpec(shape=(), dtype=tf.resource, name=None)\n",
            "  132949437268384: TensorSpec(shape=(), dtype=tf.resource, name=None)\n",
            "  132949350448848: TensorSpec(shape=(), dtype=tf.resource, name=None)\n",
            "  132949350448144: TensorSpec(shape=(), dtype=tf.resource, name=None)\n",
            "  132949437268208: TensorSpec(shape=(), dtype=tf.resource, name=None)\n",
            "  132949437268032: TensorSpec(shape=(), dtype=tf.resource, name=None)\n",
            "  132949437267664: TensorSpec(shape=(), dtype=tf.resource, name=None)\n",
            "  132949437267488: TensorSpec(shape=(), dtype=tf.resource, name=None)\n",
            "  132949350447968: TensorSpec(shape=(), dtype=tf.resource, name=None)\n",
            "  132949437267136: TensorSpec(shape=(), dtype=tf.resource, name=None)\n",
            "  132949437266960: TensorSpec(shape=(), dtype=tf.resource, name=None)\n",
            "  132949437266784: TensorSpec(shape=(), dtype=tf.resource, name=None)\n",
            "  132949437267312: TensorSpec(shape=(), dtype=tf.resource, name=None)\n",
            "  132949350447616: TensorSpec(shape=(), dtype=tf.resource, name=None)\n",
            "  132949350447440: TensorSpec(shape=(), dtype=tf.resource, name=None)\n",
            "  132949350447264: TensorSpec(shape=(), dtype=tf.resource, name=None)\n",
            "  132949350447088: TensorSpec(shape=(), dtype=tf.resource, name=None)\n",
            "  132949350447792: TensorSpec(shape=(), dtype=tf.resource, name=None)\n",
            "  132949437266256: TensorSpec(shape=(), dtype=tf.resource, name=None)\n",
            "  132949437266080: TensorSpec(shape=(), dtype=tf.resource, name=None)\n",
            "  132949437266608: TensorSpec(shape=(), dtype=tf.resource, name=None)\n",
            "  132949437266432: TensorSpec(shape=(), dtype=tf.resource, name=None)\n",
            "  132949350446912: TensorSpec(shape=(), dtype=tf.resource, name=None)\n",
            "  132949350446736: TensorSpec(shape=(), dtype=tf.resource, name=None)\n",
            "  132949437265552: TensorSpec(shape=(), dtype=tf.resource, name=None)\n",
            "  132949437265376: TensorSpec(shape=(), dtype=tf.resource, name=None)\n",
            "  132949437265904: TensorSpec(shape=(), dtype=tf.resource, name=None)\n",
            "  132949437265728: TensorSpec(shape=(), dtype=tf.resource, name=None)\n",
            "  132949350446560: TensorSpec(shape=(), dtype=tf.resource, name=None)\n",
            "  132949437265200: TensorSpec(shape=(), dtype=tf.resource, name=None)\n",
            "  132949437265024: TensorSpec(shape=(), dtype=tf.resource, name=None)\n",
            "  132949437264848: TensorSpec(shape=(), dtype=tf.resource, name=None)\n",
            "  132949437264672: TensorSpec(shape=(), dtype=tf.resource, name=None)\n",
            "  132949350445856: TensorSpec(shape=(), dtype=tf.resource, name=None)\n",
            "  132949350445680: TensorSpec(shape=(), dtype=tf.resource, name=None)\n",
            "  132949350446208: TensorSpec(shape=(), dtype=tf.resource, name=None)\n",
            "  132949350446032: TensorSpec(shape=(), dtype=tf.resource, name=None)\n",
            "  132949350446384: TensorSpec(shape=(), dtype=tf.resource, name=None)\n",
            "  132949437264320: TensorSpec(shape=(), dtype=tf.resource, name=None)\n",
            "  132949437264144: TensorSpec(shape=(), dtype=tf.resource, name=None)\n",
            "  132949437263968: TensorSpec(shape=(), dtype=tf.resource, name=None)\n",
            "  132949437264496: TensorSpec(shape=(), dtype=tf.resource, name=None)\n",
            "  132949350445504: TensorSpec(shape=(), dtype=tf.resource, name=None)\n",
            "  132949350445328: TensorSpec(shape=(), dtype=tf.resource, name=None)\n",
            "  132949437263440: TensorSpec(shape=(), dtype=tf.resource, name=None)\n",
            "  132949437263264: TensorSpec(shape=(), dtype=tf.resource, name=None)\n",
            "  132949437263792: TensorSpec(shape=(), dtype=tf.resource, name=None)\n",
            "  132949437263616: TensorSpec(shape=(), dtype=tf.resource, name=None)\n",
            "  132949350445152: TensorSpec(shape=(), dtype=tf.resource, name=None)\n",
            "  132949437262560: TensorSpec(shape=(), dtype=tf.resource, name=None)\n",
            "  132949437263088: TensorSpec(shape=(), dtype=tf.resource, name=None)\n",
            "  132949437262912: TensorSpec(shape=(), dtype=tf.resource, name=None)\n",
            "  132949437262736: TensorSpec(shape=(), dtype=tf.resource, name=None)\n",
            "  132949350444800: TensorSpec(shape=(), dtype=tf.resource, name=None)\n",
            "  132949350444624: TensorSpec(shape=(), dtype=tf.resource, name=None)\n",
            "  132949350444448: TensorSpec(shape=(), dtype=tf.resource, name=None)\n",
            "  132949350444272: TensorSpec(shape=(), dtype=tf.resource, name=None)\n",
            "  132949350444976: TensorSpec(shape=(), dtype=tf.resource, name=None)\n",
            "  132949437262384: TensorSpec(shape=(), dtype=tf.resource, name=None)\n",
            "  132949437262208: TensorSpec(shape=(), dtype=tf.resource, name=None)\n",
            "  132949437262032: TensorSpec(shape=(), dtype=tf.resource, name=None)\n",
            "  132949437261856: TensorSpec(shape=(), dtype=tf.resource, name=None)\n",
            "  132949350444096: TensorSpec(shape=(), dtype=tf.resource, name=None)\n",
            "  132949350443920: TensorSpec(shape=(), dtype=tf.resource, name=None)\n",
            "  132949437261504: TensorSpec(shape=(), dtype=tf.resource, name=None)\n",
            "  132949437261328: TensorSpec(shape=(), dtype=tf.resource, name=None)\n",
            "  132949437261152: TensorSpec(shape=(), dtype=tf.resource, name=None)\n",
            "  132949437261680: TensorSpec(shape=(), dtype=tf.resource, name=None)\n",
            "  132949350443744: TensorSpec(shape=(), dtype=tf.resource, name=None)\n",
            "  132949437260624: TensorSpec(shape=(), dtype=tf.resource, name=None)\n",
            "  132949437260448: TensorSpec(shape=(), dtype=tf.resource, name=None)\n",
            "  132949437260976: TensorSpec(shape=(), dtype=tf.resource, name=None)\n",
            "  132949437260800: TensorSpec(shape=(), dtype=tf.resource, name=None)\n",
            "  132949350443392: TensorSpec(shape=(), dtype=tf.resource, name=None)\n",
            "  132949350443216: TensorSpec(shape=(), dtype=tf.resource, name=None)\n",
            "  132949350443040: TensorSpec(shape=(), dtype=tf.resource, name=None)\n",
            "  132949350442864: TensorSpec(shape=(), dtype=tf.resource, name=None)\n",
            "  132949350443568: TensorSpec(shape=(), dtype=tf.resource, name=None)\n",
            "  132949437260272: TensorSpec(shape=(), dtype=tf.resource, name=None)\n",
            "  132949437260096: TensorSpec(shape=(), dtype=tf.resource, name=None)\n",
            "  132949437259920: TensorSpec(shape=(), dtype=tf.resource, name=None)\n",
            "  132949437259744: TensorSpec(shape=(), dtype=tf.resource, name=None)\n",
            "  132949350442688: TensorSpec(shape=(), dtype=tf.resource, name=None)\n",
            "  132949350442512: TensorSpec(shape=(), dtype=tf.resource, name=None)\n",
            "  132949437259568: TensorSpec(shape=(), dtype=tf.resource, name=None)\n",
            "  132949437259392: TensorSpec(shape=(), dtype=tf.resource, name=None)\n",
            "  132949437259216: TensorSpec(shape=(), dtype=tf.resource, name=None)\n",
            "  132949437259040: TensorSpec(shape=(), dtype=tf.resource, name=None)\n",
            "  132949350442336: TensorSpec(shape=(), dtype=tf.resource, name=None)\n",
            "  132949437258688: TensorSpec(shape=(), dtype=tf.resource, name=None)\n",
            "  132949437258512: TensorSpec(shape=(), dtype=tf.resource, name=None)\n",
            "  132949437258336: TensorSpec(shape=(), dtype=tf.resource, name=None)\n",
            "  132949437258864: TensorSpec(shape=(), dtype=tf.resource, name=None)\n",
            "  132949350441984: TensorSpec(shape=(), dtype=tf.resource, name=None)\n",
            "  132949350441808: TensorSpec(shape=(), dtype=tf.resource, name=None)\n",
            "  132949350441632: TensorSpec(shape=(), dtype=tf.resource, name=None)\n",
            "  132949350441456: TensorSpec(shape=(), dtype=tf.resource, name=None)\n",
            "  132949350442160: TensorSpec(shape=(), dtype=tf.resource, name=None)\n",
            "  132949437257808: TensorSpec(shape=(), dtype=tf.resource, name=None)\n",
            "  132949437257632: TensorSpec(shape=(), dtype=tf.resource, name=None)\n",
            "  132949437258160: TensorSpec(shape=(), dtype=tf.resource, name=None)\n",
            "  132949437257984: TensorSpec(shape=(), dtype=tf.resource, name=None)\n",
            "  132949350441280: TensorSpec(shape=(), dtype=tf.resource, name=None)\n",
            "  132949350441104: TensorSpec(shape=(), dtype=tf.resource, name=None)\n",
            "  132949437257104: TensorSpec(shape=(), dtype=tf.resource, name=None)\n",
            "  132949437256928: TensorSpec(shape=(), dtype=tf.resource, name=None)\n",
            "  132949437257456: TensorSpec(shape=(), dtype=tf.resource, name=None)\n",
            "  132949437257280: TensorSpec(shape=(), dtype=tf.resource, name=None)\n",
            "  132949350440928: TensorSpec(shape=(), dtype=tf.resource, name=None)\n",
            "  132949437256752: TensorSpec(shape=(), dtype=tf.resource, name=None)\n",
            "  132949437256576: TensorSpec(shape=(), dtype=tf.resource, name=None)\n",
            "  132949437256400: TensorSpec(shape=(), dtype=tf.resource, name=None)\n",
            "  132949437256224: TensorSpec(shape=(), dtype=tf.resource, name=None)\n",
            "  132949350440576: TensorSpec(shape=(), dtype=tf.resource, name=None)\n",
            "  132949350440400: TensorSpec(shape=(), dtype=tf.resource, name=None)\n",
            "  132949350440224: TensorSpec(shape=(), dtype=tf.resource, name=None)\n",
            "  132949350440048: TensorSpec(shape=(), dtype=tf.resource, name=None)\n",
            "  132949350440752: TensorSpec(shape=(), dtype=tf.resource, name=None)\n",
            "  132949437255872: TensorSpec(shape=(), dtype=tf.resource, name=None)\n",
            "  132949437255696: TensorSpec(shape=(), dtype=tf.resource, name=None)\n",
            "  132949437255520: TensorSpec(shape=(), dtype=tf.resource, name=None)\n",
            "  132949437256048: TensorSpec(shape=(), dtype=tf.resource, name=None)\n",
            "  132949350439696: TensorSpec(shape=(), dtype=tf.resource, name=None)\n",
            "  132949350439872: TensorSpec(shape=(), dtype=tf.resource, name=None)\n",
            "  132949352751600: TensorSpec(shape=(), dtype=tf.resource, name=None)\n",
            "  132949352751072: TensorSpec(shape=(), dtype=tf.resource, name=None)\n",
            "  132949352752304: TensorSpec(shape=(), dtype=tf.resource, name=None)\n",
            "  132949352751952: TensorSpec(shape=(), dtype=tf.resource, name=None)\n",
            "  132949350439520: TensorSpec(shape=(), dtype=tf.resource, name=None)\n",
            "  132949437254816: TensorSpec(shape=(), dtype=tf.resource, name=None)\n",
            "  132949437255344: TensorSpec(shape=(), dtype=tf.resource, name=None)\n",
            "  132949437255168: TensorSpec(shape=(), dtype=tf.resource, name=None)\n",
            "  132949437254992: TensorSpec(shape=(), dtype=tf.resource, name=None)\n",
            "  132949350439344: TensorSpec(shape=(), dtype=tf.resource, name=None)\n",
            "  132949437254640: TensorSpec(shape=(), dtype=tf.resource, name=None)\n",
            "  132949437254464: TensorSpec(shape=(), dtype=tf.resource, name=None)\n",
            "  132949437254288: TensorSpec(shape=(), dtype=tf.resource, name=None)\n",
            "  132949437254112: TensorSpec(shape=(), dtype=tf.resource, name=None)\n",
            "  132949350438992: TensorSpec(shape=(), dtype=tf.resource, name=None)\n",
            "  132949350438816: TensorSpec(shape=(), dtype=tf.resource, name=None)\n",
            "  132949350438640: TensorSpec(shape=(), dtype=tf.resource, name=None)\n",
            "  132949350438464: TensorSpec(shape=(), dtype=tf.resource, name=None)\n",
            "  132949350439168: TensorSpec(shape=(), dtype=tf.resource, name=None)\n",
            "  132949437253760: TensorSpec(shape=(), dtype=tf.resource, name=None)\n",
            "  132949437253584: TensorSpec(shape=(), dtype=tf.resource, name=None)\n",
            "  132949437253408: TensorSpec(shape=(), dtype=tf.resource, name=None)\n",
            "  132949437253936: TensorSpec(shape=(), dtype=tf.resource, name=None)\n",
            "  132949350438288: TensorSpec(shape=(), dtype=tf.resource, name=None)\n",
            "  132949350438112: TensorSpec(shape=(), dtype=tf.resource, name=None)\n",
            "  132949437252880: TensorSpec(shape=(), dtype=tf.resource, name=None)\n",
            "  132949437252704: TensorSpec(shape=(), dtype=tf.resource, name=None)\n",
            "  132949437253232: TensorSpec(shape=(), dtype=tf.resource, name=None)\n",
            "  132949437253056: TensorSpec(shape=(), dtype=tf.resource, name=None)\n",
            "  132949350437936: TensorSpec(shape=(), dtype=tf.resource, name=None)\n",
            "  132949437252528: TensorSpec(shape=(), dtype=tf.resource, name=None)\n",
            "  132949437252352: TensorSpec(shape=(), dtype=tf.resource, name=None)\n",
            "  132949437252176: TensorSpec(shape=(), dtype=tf.resource, name=None)\n",
            "  132949437252000: TensorSpec(shape=(), dtype=tf.resource, name=None)\n",
            "  132949350437584: TensorSpec(shape=(), dtype=tf.resource, name=None)\n",
            "  132949350437408: TensorSpec(shape=(), dtype=tf.resource, name=None)\n",
            "  132949350437232: TensorSpec(shape=(), dtype=tf.resource, name=None)\n",
            "  132949350437056: TensorSpec(shape=(), dtype=tf.resource, name=None)\n",
            "  132949350437760: TensorSpec(shape=(), dtype=tf.resource, name=None)\n",
            "  132949437251824: TensorSpec(shape=(), dtype=tf.resource, name=None)\n",
            "  132949437251648: TensorSpec(shape=(), dtype=tf.resource, name=None)\n",
            "  132949352758992: TensorSpec(shape=(), dtype=tf.resource, name=None)\n",
            "  132949352758816: TensorSpec(shape=(), dtype=tf.resource, name=None)\n",
            "  132949350436880: TensorSpec(shape=(), dtype=tf.resource, name=None)\n",
            "  132949350435648: TensorSpec(shape=(), dtype=tf.resource, name=None)\n",
            "  132949352753888: TensorSpec(shape=(), dtype=tf.resource, name=None)\n",
            "  132949352754240: TensorSpec(shape=(), dtype=tf.resource, name=None)\n",
            "  132949352754592: TensorSpec(shape=(), dtype=tf.resource, name=None)\n",
            "  132949352758640: TensorSpec(shape=(), dtype=tf.resource, name=None)\n",
            "  132949350435472: TensorSpec(shape=(), dtype=tf.resource, name=None)\n",
            "  132949350160816: TensorSpec(shape=(), dtype=tf.resource, name=None)\n",
            "  132949350160640: TensorSpec(shape=(), dtype=tf.resource, name=None)\n",
            "  132949352754944: TensorSpec(shape=(), dtype=tf.resource, name=None)\n",
            "  132949352750192: TensorSpec(shape=(), dtype=tf.resource, name=None)\n",
            "  132949350436528: TensorSpec(shape=(), dtype=tf.resource, name=None)\n",
            "  132949350436352: TensorSpec(shape=(), dtype=tf.resource, name=None)\n",
            "  132949350436176: TensorSpec(shape=(), dtype=tf.resource, name=None)\n",
            "  132949350436000: TensorSpec(shape=(), dtype=tf.resource, name=None)\n",
            "  132949350436704: TensorSpec(shape=(), dtype=tf.resource, name=None)\n",
            "  132949350160464: TensorSpec(shape=(), dtype=tf.resource, name=None)\n",
            "  132949350160288: TensorSpec(shape=(), dtype=tf.resource, name=None)\n",
            "  132949350160112: TensorSpec(shape=(), dtype=tf.resource, name=None)\n",
            "  132949350159936: TensorSpec(shape=(), dtype=tf.resource, name=None)\n",
            "  132949350435824: TensorSpec(shape=(), dtype=tf.resource, name=None)\n",
            "  132949350435296: TensorSpec(shape=(), dtype=tf.resource, name=None)\n",
            "  132949350159760: TensorSpec(shape=(), dtype=tf.resource, name=None)\n",
            "  132949350159584: TensorSpec(shape=(), dtype=tf.resource, name=None)\n",
            "  132949350159408: TensorSpec(shape=(), dtype=tf.resource, name=None)\n",
            "  132949350159232: TensorSpec(shape=(), dtype=tf.resource, name=None)\n",
            "  132949350435120: TensorSpec(shape=(), dtype=tf.resource, name=None)\n",
            "  132949350158880: TensorSpec(shape=(), dtype=tf.resource, name=None)\n",
            "  132949350158704: TensorSpec(shape=(), dtype=tf.resource, name=None)\n",
            "  132949350158528: TensorSpec(shape=(), dtype=tf.resource, name=None)\n",
            "  132949350159056: TensorSpec(shape=(), dtype=tf.resource, name=None)\n",
            "  132949350434768: TensorSpec(shape=(), dtype=tf.resource, name=None)\n",
            "  132949350434592: TensorSpec(shape=(), dtype=tf.resource, name=None)\n",
            "  132949350434416: TensorSpec(shape=(), dtype=tf.resource, name=None)\n",
            "  132949350434240: TensorSpec(shape=(), dtype=tf.resource, name=None)\n",
            "  132949350434944: TensorSpec(shape=(), dtype=tf.resource, name=None)\n",
            "  132949350157648: TensorSpec(shape=(), dtype=tf.resource, name=None)\n",
            "  132949350158352: TensorSpec(shape=(), dtype=tf.resource, name=None)\n",
            "  132949350158176: TensorSpec(shape=(), dtype=tf.resource, name=None)\n",
            "  132949350157824: TensorSpec(shape=(), dtype=tf.resource, name=None)\n",
            "  132949350434064: TensorSpec(shape=(), dtype=tf.resource, name=None)\n",
            "  132949350433888: TensorSpec(shape=(), dtype=tf.resource, name=None)\n",
            "  132949350156944: TensorSpec(shape=(), dtype=tf.resource, name=None)\n",
            "  132949350157472: TensorSpec(shape=(), dtype=tf.resource, name=None)\n",
            "  132949350157296: TensorSpec(shape=(), dtype=tf.resource, name=None)\n",
            "  132949350157120: TensorSpec(shape=(), dtype=tf.resource, name=None)\n",
            "  132949350433712: TensorSpec(shape=(), dtype=tf.resource, name=None)\n",
            "  132949350156768: TensorSpec(shape=(), dtype=tf.resource, name=None)\n",
            "  132949350156592: TensorSpec(shape=(), dtype=tf.resource, name=None)\n",
            "  132949350156416: TensorSpec(shape=(), dtype=tf.resource, name=None)\n",
            "  132949350156240: TensorSpec(shape=(), dtype=tf.resource, name=None)\n",
            "  132949350433360: TensorSpec(shape=(), dtype=tf.resource, name=None)\n",
            "  132949350433184: TensorSpec(shape=(), dtype=tf.resource, name=None)\n",
            "  132949350433008: TensorSpec(shape=(), dtype=tf.resource, name=None)\n",
            "  132949350432832: TensorSpec(shape=(), dtype=tf.resource, name=None)\n",
            "  132949350433536: TensorSpec(shape=(), dtype=tf.resource, name=None)\n",
            "  132949350161168: TensorSpec(shape=(), dtype=tf.resource, name=None)\n",
            "  132949354243248: TensorSpec(shape=(), dtype=tf.resource, name=None)\n",
            "  132949354242896: TensorSpec(shape=(), dtype=tf.resource, name=None)\n",
            "  132949350162928: TensorSpec(shape=(), dtype=tf.resource, name=None)\n",
            "  132949350547152: TensorSpec(shape=(), dtype=tf.resource, name=None)\n",
            "  132949350546976: TensorSpec(shape=(), dtype=tf.resource, name=None)\n",
            "  132949352758288: TensorSpec(shape=(), dtype=tf.resource, name=None)\n",
            "  132949352758112: TensorSpec(shape=(), dtype=tf.resource, name=None)\n",
            "  132949354243072: TensorSpec(shape=(), dtype=tf.resource, name=None)\n",
            "  132949352758464: TensorSpec(shape=(), dtype=tf.resource, name=None)\n",
            "  132949350546800: TensorSpec(shape=(), dtype=tf.resource, name=None)\n",
            "  132949352757936: TensorSpec(shape=(), dtype=tf.resource, name=None)\n",
            "  132949352757760: TensorSpec(shape=(), dtype=tf.resource, name=None)\n",
            "  132949352757584: TensorSpec(shape=(), dtype=tf.resource, name=None)\n",
            "  132949352757408: TensorSpec(shape=(), dtype=tf.resource, name=None)\n",
            "  132949350546448: TensorSpec(shape=(), dtype=tf.resource, name=None)\n",
            "  132949350546272: TensorSpec(shape=(), dtype=tf.resource, name=None)\n",
            "  132949350546096: TensorSpec(shape=(), dtype=tf.resource, name=None)\n",
            "  132949350545920: TensorSpec(shape=(), dtype=tf.resource, name=None)\n",
            "  132949350546624: TensorSpec(shape=(), dtype=tf.resource, name=None)\n",
            "  132949352757232: TensorSpec(shape=(), dtype=tf.resource, name=None)\n",
            "  132949352757056: TensorSpec(shape=(), dtype=tf.resource, name=None)\n",
            "  132949352756880: TensorSpec(shape=(), dtype=tf.resource, name=None)\n",
            "  132949352756704: TensorSpec(shape=(), dtype=tf.resource, name=None)\n",
            "  132949350545744: TensorSpec(shape=(), dtype=tf.resource, name=None)\n",
            "  132949350545568: TensorSpec(shape=(), dtype=tf.resource, name=None)\n",
            "  132949352756352: TensorSpec(shape=(), dtype=tf.resource, name=None)\n",
            "  132949352756176: TensorSpec(shape=(), dtype=tf.resource, name=None)\n",
            "  132949352756000: TensorSpec(shape=(), dtype=tf.resource, name=None)\n",
            "  132949352756528: TensorSpec(shape=(), dtype=tf.resource, name=None)\n",
            "  132949350174736: TensorSpec(shape=(), dtype=tf.resource, name=None)\n",
            "  132949350174560: TensorSpec(shape=(), dtype=tf.resource, name=None)\n",
            "  132949350174384: TensorSpec(shape=(), dtype=tf.resource, name=None)\n",
            "  132949350174208: TensorSpec(shape=(), dtype=tf.resource, name=None)\n"
          ]
        }
      ],
      "source": [
        "sig = model.signatures['serving_default']\n",
        "print(sig.pretty_printed_signature())"
      ]
    },
    {
      "cell_type": "markdown",
      "metadata": {
        "id": "M4Xny1ANomi4"
      },
      "source": [
        "To run this signature on the video you need to add the outer `batch` dimension to the video first."
      ]
    },
    {
      "cell_type": "code",
      "execution_count": 10,
      "metadata": {
        "id": "LBOFEDG1XvZE"
      },
      "outputs": [],
      "source": [
        "#warmup\n",
        "sig(image = jumpingjack[tf.newaxis, :1]);"
      ]
    },
    {
      "cell_type": "code",
      "execution_count": 11,
      "metadata": {
        "id": "jCeW3KycVbGn",
        "colab": {
          "base_uri": "https://localhost:8080/"
        },
        "outputId": "8a5ba488-716b-4282-f581-c222afc606f3"
      },
      "outputs": [
        {
          "output_type": "stream",
          "name": "stdout",
          "text": [
            "(600,)\n",
            "\n",
            "CPU times: user 33.8 s, sys: 243 ms, total: 34 s\n",
            "Wall time: 25 s\n"
          ]
        }
      ],
      "source": [
        "%%time\n",
        "logits = sig(image = jumpingjack[tf.newaxis, ...])\n",
        "logits = logits['classifier_head'][0]\n",
        "\n",
        "print(logits.shape)\n",
        "print()"
      ]
    },
    {
      "cell_type": "markdown",
      "metadata": {
        "id": "AE8doqkPpxED"
      },
      "source": [
        "Define a `get_top_k` function that packages the above output processing for later."
      ]
    },
    {
      "cell_type": "code",
      "execution_count": 12,
      "metadata": {
        "id": "OozPNO6LvZ00"
      },
      "outputs": [],
      "source": [
        "#@title\n",
        "# Get top_k labels and probabilities\n",
        "def get_top_k(probs, k=5, label_map=KINETICS_600_LABELS):\n",
        "  \"\"\"Outputs the top k model labels and probabilities on the given video.\n",
        "\n",
        "  Args:\n",
        "    probs: probability tensor of shape (num_frames, num_classes) that represents\n",
        "      the probability of each class on each frame.\n",
        "    k: the number of top predictions to select.\n",
        "    label_map: a list of labels to map logit indices to label strings.\n",
        "\n",
        "  Returns:\n",
        "    a tuple of the top-k labels and probabilities.\n",
        "  \"\"\"\n",
        "  # Sort predictions to find top_k\n",
        "  top_predictions = tf.argsort(probs, axis=-1, direction='DESCENDING')[:k]\n",
        "  # collect the labels of top_k predictions\n",
        "  top_labels = tf.gather(label_map, top_predictions, axis=-1)\n",
        "  # decode lablels\n",
        "  top_labels = [label.decode('utf8') for label in top_labels.numpy()]\n",
        "  # top_k probabilities of the predictions\n",
        "  top_probs = tf.gather(probs, top_predictions, axis=-1).numpy()\n",
        "  return tuple(zip(top_labels, top_probs))"
      ]
    },
    {
      "cell_type": "markdown",
      "metadata": {
        "id": "kTfKMT29pP_Z"
      },
      "source": [
        "Convert the `logits` to probabilities, and look up the top 5 classes for the video. The model confirms that the video is probably of `jumping jacks`."
      ]
    },
    {
      "cell_type": "code",
      "execution_count": 13,
      "metadata": {
        "id": "Z-SrNGsGV5Mt",
        "colab": {
          "base_uri": "https://localhost:8080/"
        },
        "outputId": "aa55df65-af1d-4158-c780-0a21daddefce"
      },
      "outputs": [
        {
          "output_type": "stream",
          "name": "stdout",
          "text": [
            "jumping jacks       : 0.834\n",
            "zumba               : 0.008\n",
            "lunge               : 0.003\n",
            "doing aerobics      : 0.003\n",
            "polishing metal     : 0.002\n"
          ]
        }
      ],
      "source": [
        "probs = tf.nn.softmax(logits, axis=-1)\n",
        "for label, p in get_top_k(probs):\n",
        "  print(f'{label:20s}: {p:.3f}')"
      ]
    },
    {
      "cell_type": "markdown",
      "metadata": {
        "id": "ltdijoQpqjxZ"
      },
      "source": [
        "### The streaming model"
      ]
    },
    {
      "cell_type": "markdown",
      "metadata": {
        "id": "9dqdUPQXq45b"
      },
      "source": [
        "The previous section used a model that runs over a whole video. Often when processing a video you don't want a single prediction at the end, you want to update predictions frame by frame. The `stream` versions of the model allow you to do this.\n",
        "\n",
        "Load the `stream` version of the model."
      ]
    },
    {
      "cell_type": "code",
      "execution_count": 14,
      "metadata": {
        "id": "mxt0hRXFZkAM",
        "colab": {
          "base_uri": "https://localhost:8080/"
        },
        "outputId": "55cd2a78-451e-448d-c1b8-34b32e3bd604"
      },
      "outputs": [
        {
          "output_type": "stream",
          "name": "stderr",
          "text": [
            "WARNING:absl:`state/b4/l0/pool_buffer` is not a valid tf.function parameter name. Sanitizing to `state_b4_l0_pool_buffer`.\n",
            "WARNING:absl:`state/b3/l5/pool_frame_count` is not a valid tf.function parameter name. Sanitizing to `state_b3_l5_pool_frame_count`.\n",
            "WARNING:absl:`state/b0/l1/pool_buffer` is not a valid tf.function parameter name. Sanitizing to `state_b0_l1_pool_buffer`.\n",
            "WARNING:absl:`state/b1/l1/pool_buffer` is not a valid tf.function parameter name. Sanitizing to `state_b1_l1_pool_buffer`.\n",
            "WARNING:absl:`state/b2/l1/stream_buffer` is not a valid tf.function parameter name. Sanitizing to `state_b2_l1_stream_buffer`.\n"
          ]
        },
        {
          "output_type": "stream",
          "name": "stdout",
          "text": [
            "CPU times: user 55.4 s, sys: 2.71 s, total: 58.1 s\n",
            "Wall time: 1min\n"
          ]
        }
      ],
      "source": [
        "%%time\n",
        "id = 'a2'\n",
        "mode = 'stream'\n",
        "version = '3'\n",
        "hub_url = f'https://tfhub.dev/tensorflow/movinet/{id}/{mode}/kinetics-600/classification/{version}'\n",
        "model = hub.load(hub_url)"
      ]
    },
    {
      "cell_type": "markdown",
      "metadata": {
        "id": "pDswtsGgsYGS"
      },
      "source": [
        "Using this model is slightly more complex than the `base` model. You have to keep track of the internal state of the model's RNNs."
      ]
    },
    {
      "cell_type": "code",
      "execution_count": 15,
      "metadata": {
        "id": "0fM_Vb1VsbDm",
        "colab": {
          "base_uri": "https://localhost:8080/"
        },
        "outputId": "d2055acb-1ced-421d-9967-65fa3a3e064b"
      },
      "outputs": [
        {
          "output_type": "execute_result",
          "data": {
            "text/plain": [
              "['call', 'init_states']"
            ]
          },
          "metadata": {},
          "execution_count": 15
        }
      ],
      "source": [
        "list(model.signatures.keys())"
      ]
    },
    {
      "cell_type": "markdown",
      "metadata": {
        "id": "ojr1_iYCtPvp"
      },
      "source": [
        "The `init_states` signature takes the video's **shape** `(batch, frames, height, width, colors)` as input, and returns a large dictionary of tensors containing the initial RNN states:"
      ]
    },
    {
      "cell_type": "code",
      "execution_count": 16,
      "metadata": {
        "id": "67loYFGpo_RP",
        "colab": {
          "base_uri": "https://localhost:8080/"
        },
        "outputId": "2ae293db-b582-44a8-c969-bbe8046b3426"
      },
      "outputs": [
        {
          "output_type": "stream",
          "name": "stdout",
          "text": [
            "Input Parameters:.\n",
            "  input_shape (KEYWORD_ONLY): TensorSpec(shape=(5,), dtype=tf.int32, name='input_shape').\n",
            "Output Type:.\n",
            "  Dict[['state/b3/l0/pool_buffer', TensorSpec(shape=(None, 1, 1, 1, 240), dtype=tf.float32, name='state/b3/l0/pool_buffer')], ['state/b3/l5/pool_buffer', TensorSpec(shape=(None, 1, 1, 1, 240), dtype=tf.float32, name='state/b3/l5/pool_buffer')], ['state/b0/l2/pool_buffer', TensorSpec(shape=(None, 1, 1, 1, 64), dtype=tf.float32, name='state/b0/l2/pool_buffer')], ['state/b2/l1/pool_frame_count', TensorSpec(shape=(1,), dtype=tf.int32, name='state/b2/l1/pool_frame_count')], ['state/b1/l2/stream_buffer', TensorSpec(shape=(None, 2, None, None, 96), dtype=tf.float32, name='state/b1/l2/stream_buffer')], ['state/b3/l3/pool_buffer', TensorSpec(shape=(None, 1, 1, 1, 240), dtype=tf.float32, name='state/b3/l3/pool_buffer')], ['state/b3/l5/stream_buffer', TensorSpec(shape=(None, 2, None, None, 240), dtype=tf.float32, name='state/b3/l5/stream_buffer')], ['state/b2/l4/pool_buffer', TensorSpec(shape=(None, 1, 1, 1, 240), dtype=tf.float32, name='state/b2/l4/pool_buffer')], ['state/b3/l1/pool_buffer', TensorSpec(shape=(None, 1, 1, 1, 240), dtype=tf.float32, name='state/b3/l1/pool_buffer')], ['state/b4/l5/pool_buffer', TensorSpec(shape=(None, 1, 1, 1, 480), dtype=tf.float32, name='state/b4/l5/pool_buffer')], ['state/b2/l4/pool_frame_count', TensorSpec(shape=(1,), dtype=tf.int32, name='state/b2/l4/pool_frame_count')], ['state/b1/l0/pool_buffer', TensorSpec(shape=(None, 1, 1, 1, 96), dtype=tf.float32, name='state/b1/l0/pool_buffer')], ['state/b3/l0/stream_buffer', TensorSpec(shape=(None, 4, None, None, 240), dtype=tf.float32, name='state/b3/l0/stream_buffer')], ['state/b1/l2/pool_frame_count', TensorSpec(shape=(1,), dtype=tf.int32, name='state/b1/l2/pool_frame_count')], ['state/b1/l1/pool_buffer', TensorSpec(shape=(None, 1, 1, 1, 120), dtype=tf.float32, name='state/b1/l1/pool_buffer')], ['state/b1/l1/pool_frame_count', TensorSpec(shape=(1,), dtype=tf.int32, name='state/b1/l1/pool_frame_count')], ['state/b4/l5/stream_buffer', TensorSpec(shape=(None, 2, None, None, 480), dtype=tf.float32, name='state/b4/l5/stream_buffer')], ['state/b0/l1/pool_frame_count', TensorSpec(shape=(1,), dtype=tf.int32, name='state/b0/l1/pool_frame_count')], ['state/b4/l0/pool_frame_count', TensorSpec(shape=(1,), dtype=tf.int32, name='state/b4/l0/pool_frame_count')], ['state/b3/l2/pool_frame_count', TensorSpec(shape=(1,), dtype=tf.int32, name='state/b3/l2/pool_frame_count')], ['state/b2/l4/stream_buffer', TensorSpec(shape=(None, 2, None, None, 240), dtype=tf.float32, name='state/b2/l4/stream_buffer')], ['state/b4/l2/pool_buffer', TensorSpec(shape=(None, 1, 1, 1, 384), dtype=tf.float32, name='state/b4/l2/pool_buffer')], ['state/b3/l3/stream_buffer', TensorSpec(shape=(None, 2, None, None, 240), dtype=tf.float32, name='state/b3/l3/stream_buffer')], ['state/b3/l2/pool_buffer', TensorSpec(shape=(None, 1, 1, 1, 240), dtype=tf.float32, name='state/b3/l2/pool_buffer')], ['state/b1/l4/pool_frame_count', TensorSpec(shape=(1,), dtype=tf.int32, name='state/b1/l4/pool_frame_count')], ['state/b0/l0/pool_buffer', TensorSpec(shape=(None, 1, 1, 1, 40), dtype=tf.float32, name='state/b0/l0/pool_buffer')], ['state/b2/l0/pool_buffer', TensorSpec(shape=(None, 1, 1, 1, 240), dtype=tf.float32, name='state/b2/l0/pool_buffer')], ['state/b3/l2/stream_buffer', TensorSpec(shape=(None, 2, None, None, 240), dtype=tf.float32, name='state/b3/l2/stream_buffer')], ['state/b3/l4/pool_frame_count', TensorSpec(shape=(1,), dtype=tf.int32, name='state/b3/l4/pool_frame_count')], ['state/b4/l5/pool_frame_count', TensorSpec(shape=(1,), dtype=tf.int32, name='state/b4/l5/pool_frame_count')], ['state/b4/l2/pool_frame_count', TensorSpec(shape=(1,), dtype=tf.int32, name='state/b4/l2/pool_frame_count')], ['state/b1/l4/stream_buffer', TensorSpec(shape=(None, 2, None, None, 120), dtype=tf.float32, name='state/b1/l4/stream_buffer')], ['state/b0/l2/stream_buffer', TensorSpec(shape=(None, 2, None, None, 64), dtype=tf.float32, name='state/b0/l2/stream_buffer')], ['state/head/pool_buffer', TensorSpec(shape=(None, 1, 1, 1, 640), dtype=tf.float32, name='state/head/pool_buffer')], ['state/b3/l4/pool_buffer', TensorSpec(shape=(None, 1, 1, 1, 144), dtype=tf.float32, name='state/b3/l4/pool_buffer')], ['state/b4/l0/pool_buffer', TensorSpec(shape=(None, 1, 1, 1, 480), dtype=tf.float32, name='state/b4/l0/pool_buffer')], ['state/b2/l1/pool_buffer', TensorSpec(shape=(None, 1, 1, 1, 160), dtype=tf.float32, name='state/b2/l1/pool_buffer')], ['state/b3/l0/pool_frame_count', TensorSpec(shape=(1,), dtype=tf.int32, name='state/b3/l0/pool_frame_count')], ['state/b0/l1/pool_buffer', TensorSpec(shape=(None, 1, 1, 1, 40), dtype=tf.float32, name='state/b0/l1/pool_buffer')], ['state/b2/l3/pool_buffer', TensorSpec(shape=(None, 1, 1, 1, 192), dtype=tf.float32, name='state/b2/l3/pool_buffer')], ['state/b3/l3/pool_frame_count', TensorSpec(shape=(1,), dtype=tf.int32, name='state/b3/l3/pool_frame_count')], ['state/b1/l2/pool_buffer', TensorSpec(shape=(None, 1, 1, 1, 96), dtype=tf.float32, name='state/b1/l2/pool_buffer')], ['state/b4/l6/pool_buffer', TensorSpec(shape=(None, 1, 1, 1, 576), dtype=tf.float32, name='state/b4/l6/pool_buffer')], ['state/b2/l1/stream_buffer', TensorSpec(shape=(None, 2, None, None, 160), dtype=tf.float32, name='state/b2/l1/stream_buffer')], ['state/b4/l6/pool_frame_count', TensorSpec(shape=(1,), dtype=tf.int32, name='state/b4/l6/pool_frame_count')], ['state/b0/l2/pool_frame_count', TensorSpec(shape=(1,), dtype=tf.int32, name='state/b0/l2/pool_frame_count')], ['state/b4/l4/pool_buffer', TensorSpec(shape=(None, 1, 1, 1, 480), dtype=tf.float32, name='state/b4/l4/pool_buffer')], ['state/b2/l3/stream_buffer', TensorSpec(shape=(None, 2, None, None, 192), dtype=tf.float32, name='state/b2/l3/stream_buffer')], ['state/b2/l3/pool_frame_count', TensorSpec(shape=(1,), dtype=tf.int32, name='state/b2/l3/pool_frame_count')], ['state/b4/l0/stream_buffer', TensorSpec(shape=(None, 4, None, None, 480), dtype=tf.float32, name='state/b4/l0/stream_buffer')], ['state/b0/l0/pool_frame_count', TensorSpec(shape=(1,), dtype=tf.int32, name='state/b0/l0/pool_frame_count')], ['state/b1/l3/pool_buffer', TensorSpec(shape=(None, 1, 1, 1, 96), dtype=tf.float32, name='state/b1/l3/pool_buffer')], ['state/head/pool_frame_count', TensorSpec(shape=(1,), dtype=tf.int32, name='state/head/pool_frame_count')], ['state/b4/l3/pool_buffer', TensorSpec(shape=(None, 1, 1, 1, 480), dtype=tf.float32, name='state/b4/l3/pool_buffer')], ['state/b0/l1/stream_buffer', TensorSpec(shape=(None, 2, None, None, 40), dtype=tf.float32, name='state/b0/l1/stream_buffer')], ['state/b4/l1/pool_buffer', TensorSpec(shape=(None, 1, 1, 1, 384), dtype=tf.float32, name='state/b4/l1/pool_buffer')], ['state/b2/l2/pool_frame_count', TensorSpec(shape=(1,), dtype=tf.int32, name='state/b2/l2/pool_frame_count')], ['state/b1/l1/stream_buffer', TensorSpec(shape=(None, 2, None, None, 120), dtype=tf.float32, name='state/b1/l1/stream_buffer')], ['state/b3/l5/pool_frame_count', TensorSpec(shape=(1,), dtype=tf.int32, name='state/b3/l5/pool_frame_count')], ['state/b1/l0/stream_buffer', TensorSpec(shape=(None, 2, None, None, 96), dtype=tf.float32, name='state/b1/l0/stream_buffer')], ['state/b4/l1/pool_frame_count', TensorSpec(shape=(1,), dtype=tf.int32, name='state/b4/l1/pool_frame_count')], ['state/b1/l3/pool_frame_count', TensorSpec(shape=(1,), dtype=tf.int32, name='state/b1/l3/pool_frame_count')], ['state/b1/l4/pool_buffer', TensorSpec(shape=(None, 1, 1, 1, 120), dtype=tf.float32, name='state/b1/l4/pool_buffer')], ['state/b3/l1/stream_buffer', TensorSpec(shape=(None, 2, None, None, 240), dtype=tf.float32, name='state/b3/l1/stream_buffer')], ['state/b4/l3/pool_frame_count', TensorSpec(shape=(1,), dtype=tf.int32, name='state/b4/l3/pool_frame_count')], ['state/b1/l3/stream_buffer', TensorSpec(shape=(None, 2, None, None, 96), dtype=tf.float32, name='state/b1/l3/stream_buffer')], ['state/b2/l2/pool_buffer', TensorSpec(shape=(None, 1, 1, 1, 240), dtype=tf.float32, name='state/b2/l2/pool_buffer')], ['state/b1/l0/pool_frame_count', TensorSpec(shape=(1,), dtype=tf.int32, name='state/b1/l0/pool_frame_count')], ['state/b2/l0/pool_frame_count', TensorSpec(shape=(1,), dtype=tf.int32, name='state/b2/l0/pool_frame_count')], ['state/b4/l4/pool_frame_count', TensorSpec(shape=(1,), dtype=tf.int32, name='state/b4/l4/pool_frame_count')], ['state/b2/l2/stream_buffer', TensorSpec(shape=(None, 2, None, None, 240), dtype=tf.float32, name='state/b2/l2/stream_buffer')], ['state/b3/l1/pool_frame_count', TensorSpec(shape=(1,), dtype=tf.int32, name='state/b3/l1/pool_frame_count')], ['state/b2/l0/stream_buffer', TensorSpec(shape=(None, 4, None, None, 240), dtype=tf.float32, name='state/b2/l0/stream_buffer')]].\n",
            "Captures:.\n",
            "  None.\n",
            "      ...\n"
          ]
        }
      ],
      "source": [
        "lines = model.signatures['init_states'].pretty_printed_signature().splitlines()\n",
        "lines = lines[:10]\n",
        "lines.append('      ...')\n",
        "print('.\\n'.join(lines))"
      ]
    },
    {
      "cell_type": "code",
      "execution_count": 17,
      "metadata": {
        "id": "v5lG3vejn5df"
      },
      "outputs": [],
      "source": [
        "initial_state = model.init_states(jumpingjack[tf.newaxis, ...].shape)"
      ]
    },
    {
      "cell_type": "code",
      "execution_count": 18,
      "metadata": {
        "id": "J3DwmyHnuhH_",
        "colab": {
          "base_uri": "https://localhost:8080/"
        },
        "outputId": "68e28dac-8035-4497-82c3-648e2e3db91b"
      },
      "outputs": [
        {
          "output_type": "execute_result",
          "data": {
            "text/plain": [
              "dict"
            ]
          },
          "metadata": {},
          "execution_count": 18
        }
      ],
      "source": [
        "type(initial_state)"
      ]
    },
    {
      "cell_type": "code",
      "execution_count": 19,
      "metadata": {
        "id": "K8SyiEU6tB-e",
        "colab": {
          "base_uri": "https://localhost:8080/"
        },
        "outputId": "c73b06c3-094d-4ce5-83e8-b76724bab1d8"
      },
      "outputs": [
        {
          "output_type": "execute_result",
          "data": {
            "text/plain": [
              "['state/b0/l0/pool_buffer',\n",
              " 'state/b0/l0/pool_frame_count',\n",
              " 'state/b0/l1/pool_buffer',\n",
              " 'state/b0/l1/pool_frame_count',\n",
              " 'state/b0/l1/stream_buffer']"
            ]
          },
          "metadata": {},
          "execution_count": 19
        }
      ],
      "source": [
        "list(sorted(initial_state.keys()))[:5]"
      ]
    },
    {
      "cell_type": "markdown",
      "metadata": {
        "id": "xeMCzJMBvwRF"
      },
      "source": [
        "Once you have the initial state for the RNNs, you can pass the state and a video frame as input (keeping the `(batch, frames, height, width, colors)` shape for the video frame). The model returns a `(logits, state)` pair.\n",
        "\n",
        "After just seeing the first frame, the model is not convinced that the video is of \"jumping jacks\":"
      ]
    },
    {
      "cell_type": "code",
      "execution_count": 20,
      "metadata": {
        "id": "McSLdIgtsI3d"
      },
      "outputs": [],
      "source": [
        "inputs = initial_state.copy()\n",
        "\n",
        "# Add the batch axis, take the first frme, but keep the frame-axis.\n",
        "inputs['image'] = jumpingjack[tf.newaxis, 0:1, ...]"
      ]
    },
    {
      "cell_type": "code",
      "execution_count": 21,
      "metadata": {
        "id": "WlH7PqLPX664"
      },
      "outputs": [],
      "source": [
        "# warmup\n",
        "model(inputs);"
      ]
    },
    {
      "cell_type": "code",
      "execution_count": 22,
      "metadata": {
        "id": "7uzNXtu7X5sr",
        "colab": {
          "base_uri": "https://localhost:8080/"
        },
        "outputId": "4d36128e-177e-468e-e77d-705ae0536377"
      },
      "outputs": [
        {
          "output_type": "stream",
          "name": "stdout",
          "text": [
            "golf chipping       : 0.427\n",
            "tackling            : 0.134\n",
            "lunge               : 0.056\n",
            "stretching arm      : 0.053\n",
            "passing american football (not in game): 0.039\n",
            "\n"
          ]
        }
      ],
      "source": [
        "logits, new_state = model(inputs)\n",
        "logits = logits[0]\n",
        "probs = tf.nn.softmax(logits, axis=-1)\n",
        "\n",
        "for label, p in get_top_k(probs):\n",
        "  print(f'{label:20s}: {p:.3f}')\n",
        "\n",
        "print()"
      ]
    },
    {
      "cell_type": "markdown",
      "metadata": {
        "id": "oLU644FQwXSb"
      },
      "source": [
        "If you run the model in a loop, passing the updated state with each frame, the model quickly converges to the correct result:"
      ]
    },
    {
      "cell_type": "code",
      "execution_count": 23,
      "metadata": {
        "id": "Fzm7T4ImmIEg",
        "colab": {
          "base_uri": "https://localhost:8080/"
        },
        "outputId": "cb5f85e1-1e8a-4598-d974-bcba3c60c325"
      },
      "outputs": [
        {
          "output_type": "stream",
          "name": "stdout",
          "text": [
            "CPU times: user 1.45 s, sys: 80.4 ms, total: 1.53 s\n",
            "Wall time: 984 ms\n"
          ]
        }
      ],
      "source": [
        "%%time\n",
        "state = initial_state.copy()\n",
        "all_logits = []\n",
        "\n",
        "for n in range(len(jumpingjack)):\n",
        "  inputs = state\n",
        "  inputs['image'] = jumpingjack[tf.newaxis, n:n+1, ...]\n",
        "  result, state = model(inputs)\n",
        "  all_logits.append(logits)\n",
        "\n",
        "probabilities = tf.nn.softmax(all_logits, axis=-1)"
      ]
    },
    {
      "cell_type": "code",
      "execution_count": 24,
      "metadata": {
        "id": "B7UtHoSWcOT2",
        "colab": {
          "base_uri": "https://localhost:8080/"
        },
        "outputId": "e743fa30-116f-468b-91fa-8bb7fe1879df"
      },
      "outputs": [
        {
          "output_type": "stream",
          "name": "stdout",
          "text": [
            "golf chipping       : 0.427\n",
            "tackling            : 0.134\n",
            "lunge               : 0.056\n",
            "stretching arm      : 0.053\n",
            "passing american football (not in game): 0.039\n"
          ]
        }
      ],
      "source": [
        "for label, p in get_top_k(probabilities[-1]):\n",
        "  print(f'{label:20s}: {p:.3f}')"
      ]
    },
    {
      "cell_type": "code",
      "execution_count": 25,
      "metadata": {
        "id": "6ffV3NhZcsrv",
        "colab": {
          "base_uri": "https://localhost:8080/",
          "height": 465
        },
        "outputId": "cc7c1651-b410-48e7-d4f9-6be0ee882cf9"
      },
      "outputs": [
        {
          "output_type": "display_data",
          "data": {
            "text/plain": [
              "<Figure size 640x480 with 1 Axes>"
            ],
            "image/png": "[encoded data removed]"
          },
          "metadata": {}
        }
      ],
      "source": [
        "id = tf.argmax(probabilities[-1])\n",
        "plt.plot(probabilities[:, id])\n",
        "plt.xlabel('Frame #')\n",
        "plt.ylabel(f\"p('{KINETICS_600_LABELS[id]}')\");"
      ]
    },
    {
      "cell_type": "markdown",
      "metadata": {
        "id": "d7MZ_AfRW845"
      },
      "source": [
        "You may notice that the final probability is much more certain than in the previous section where you ran the `base` model. The `base` model returns an average of the predictions over the frames."
      ]
    },
    {
      "cell_type": "code",
      "execution_count": 26,
      "metadata": {
        "id": "0Wij4tsyW8dR",
        "colab": {
          "base_uri": "https://localhost:8080/"
        },
        "outputId": "de6a1d1c-fdb6-4019-ffa5-81fcd7042f5c"
      },
      "outputs": [
        {
          "output_type": "stream",
          "name": "stdout",
          "text": [
            "golf chipping       : 0.427\n",
            "tackling            : 0.134\n",
            "lunge               : 0.056\n",
            "stretching arm      : 0.053\n",
            "passing american football (not in game): 0.039\n"
          ]
        }
      ],
      "source": [
        "for label, p in get_top_k(tf.reduce_mean(probabilities, axis=0)):\n",
        "  print(f'{label:20s}: {p:.3f}')"
      ]
    },
    {
      "cell_type": "markdown",
      "metadata": {
        "id": "qLUoC9ejggGo"
      },
      "source": [
        "## Animate the predictions over time\n",
        "\n",
        "The previous section went into some details about how to use these models. This section builds on top of that to produce some nice inference animations."
      ]
    },
    {
      "cell_type": "markdown",
      "metadata": {
        "id": "OnFqOXazoWgy"
      },
      "source": [
        "The hidden cell below to defines helper functions used in this section."
      ]
    },
    {
      "cell_type": "code",
      "execution_count": 27,
      "metadata": {
        "id": "dx55NK3ZoZeh"
      },
      "outputs": [],
      "source": [
        "#@title\n",
        "# Get top_k labels and probabilities predicted using MoViNets streaming model\n",
        "def get_top_k_streaming_labels(probs, k=5, label_map=KINETICS_600_LABELS):\n",
        "  \"\"\"Returns the top-k labels over an entire video sequence.\n",
        "\n",
        "  Args:\n",
        "    probs: probability tensor of shape (num_frames, num_classes) that represents\n",
        "      the probability of each class on each frame.\n",
        "    k: the number of top predictions to select.\n",
        "    label_map: a list of labels to map logit indices to label strings.\n",
        "\n",
        "  Returns:\n",
        "    a tuple of the top-k probabilities, labels, and logit indices\n",
        "  \"\"\"\n",
        "  top_categories_last = tf.argsort(probs, -1, 'DESCENDING')[-1, :1]\n",
        "  # Sort predictions to find top_k\n",
        "  categories = tf.argsort(probs, -1, 'DESCENDING')[:, :k]\n",
        "  categories = tf.reshape(categories, [-1])\n",
        "\n",
        "  counts = sorted([\n",
        "      (i.numpy(), tf.reduce_sum(tf.cast(categories == i, tf.int32)).numpy())\n",
        "      for i in tf.unique(categories)[0]\n",
        "  ], key=lambda x: x[1], reverse=True)\n",
        "\n",
        "  top_probs_idx = tf.constant([i for i, _ in counts[:k]])\n",
        "  top_probs_idx = tf.concat([top_categories_last, top_probs_idx], 0)\n",
        "  # find unique indices of categories\n",
        "  top_probs_idx = tf.unique(top_probs_idx)[0][:k+1]\n",
        "  # top_k probabilities of the predictions\n",
        "  top_probs = tf.gather(probs, top_probs_idx, axis=-1)\n",
        "  top_probs = tf.transpose(top_probs, perm=(1, 0))\n",
        "  # collect the labels of top_k predictions\n",
        "  top_labels = tf.gather(label_map, top_probs_idx, axis=0)\n",
        "  # decode the top_k labels\n",
        "  top_labels = [label.decode('utf8') for label in top_labels.numpy()]\n",
        "\n",
        "  return top_probs, top_labels, top_probs_idx\n",
        "\n",
        "# Plot top_k predictions at a given time step\n",
        "def plot_streaming_top_preds_at_step(\n",
        "    top_probs,\n",
        "    top_labels,\n",
        "    step=None,\n",
        "    image=None,\n",
        "    legend_loc='lower left',\n",
        "    duration_seconds=10,\n",
        "    figure_height=500,\n",
        "    playhead_scale=0.8,\n",
        "    grid_alpha=0.3):\n",
        "  \"\"\"Generates a plot of the top video model predictions at a given time step.\n",
        "\n",
        "  Args:\n",
        "    top_probs: a tensor of shape (k, num_frames) representing the top-k\n",
        "      probabilities over all frames.\n",
        "    top_labels: a list of length k that represents the top-k label strings.\n",
        "    step: the current time step in the range [0, num_frames].\n",
        "    image: the image frame to display at the current time step.\n",
        "    legend_loc: the placement location of the legend.\n",
        "    duration_seconds: the total duration of the video.\n",
        "    figure_height: the output figure height.\n",
        "    playhead_scale: scale value for the playhead.\n",
        "    grid_alpha: alpha value for the gridlines.\n",
        "\n",
        "  Returns:\n",
        "    A tuple of the output numpy image, figure, and axes.\n",
        "  \"\"\"\n",
        "  # find number of top_k labels and frames in the video\n",
        "  num_labels, num_frames = top_probs.shape\n",
        "  if step is None:\n",
        "    step = num_frames\n",
        "  # Visualize frames and top_k probabilities of streaming video\n",
        "  fig = plt.figure(figsize=(6.5, 7), dpi=300)\n",
        "  gs = mpl.gridspec.GridSpec(8, 1)\n",
        "  ax2 = plt.subplot(gs[:-3, :])\n",
        "  ax = plt.subplot(gs[-3:, :])\n",
        "  # display the frame\n",
        "  if image is not None:\n",
        "    ax2.imshow(image, interpolation='nearest')\n",
        "    ax2.axis('off')\n",
        "  # x-axis (frame number)\n",
        "  preview_line_x = tf.linspace(0., duration_seconds, num_frames)\n",
        "  # y-axis (top_k probabilities)\n",
        "  preview_line_y = top_probs\n",
        "\n",
        "  line_x = preview_line_x[:step+1]\n",
        "  line_y = preview_line_y[:, :step+1]\n",
        "\n",
        "  for i in range(num_labels):\n",
        "    ax.plot(preview_line_x, preview_line_y[i], label=None, linewidth='1.5',\n",
        "            linestyle=':', color='gray')\n",
        "    ax.plot(line_x, line_y[i], label=top_labels[i], linewidth='2.0')\n",
        "\n",
        "\n",
        "  ax.grid(which='major', linestyle=':', linewidth='1.0', alpha=grid_alpha)\n",
        "  ax.grid(which='minor', linestyle=':', linewidth='0.5', alpha=grid_alpha)\n",
        "\n",
        "  min_height = tf.reduce_min(top_probs) * playhead_scale\n",
        "  max_height = tf.reduce_max(top_probs)\n",
        "  ax.vlines(preview_line_x[step], min_height, max_height, colors='red')\n",
        "  ax.scatter(preview_line_x[step], max_height, color='red')\n",
        "\n",
        "  ax.legend(loc=legend_loc)\n",
        "\n",
        "  plt.xlim(0, duration_seconds)\n",
        "  plt.ylabel('Probability')\n",
        "  plt.xlabel('Time (s)')\n",
        "  plt.yscale('log')\n",
        "\n",
        "  fig.tight_layout()\n",
        "  fig.canvas.draw()\n",
        "\n",
        "  data = np.frombuffer(fig.canvas.tostring_rgb(), dtype=np.uint8)\n",
        "  data = data.reshape(fig.canvas.get_width_height()[::-1] + (3,))\n",
        "  plt.close()\n",
        "\n",
        "  figure_width = int(figure_height * data.shape[1] / data.shape[0])\n",
        "  image = PIL.Image.fromarray(data).resize([figure_width, figure_height])\n",
        "  image = np.array(image)\n",
        "\n",
        "  return image\n",
        "\n",
        "# Plotting top_k predictions from MoViNets streaming model\n",
        "def plot_streaming_top_preds(\n",
        "    probs,\n",
        "    video,\n",
        "    top_k=5,\n",
        "    video_fps=25.,\n",
        "    figure_height=500,\n",
        "    use_progbar=True):\n",
        "  \"\"\"Generates a video plot of the top video model predictions.\n",
        "\n",
        "  Args:\n",
        "    probs: probability tensor of shape (num_frames, num_classes) that represents\n",
        "      the probability of each class on each frame.\n",
        "    video: the video to display in the plot.\n",
        "    top_k: the number of top predictions to select.\n",
        "    video_fps: the input video fps.\n",
        "    figure_fps: the output video fps.\n",
        "    figure_height: the height of the output video.\n",
        "    use_progbar: display a progress bar.\n",
        "\n",
        "  Returns:\n",
        "    A numpy array representing the output video.\n",
        "  \"\"\"\n",
        "  # select number of frames per second\n",
        "  video_fps = 8.\n",
        "  # select height of the image\n",
        "  figure_height = 500\n",
        "  # number of time steps of the given video\n",
        "  steps = video.shape[0]\n",
        "  # estimate duration of the video (in seconds)\n",
        "  duration = steps / video_fps\n",
        "  # estimate top_k probabilities and corresponding labels\n",
        "  top_probs, top_labels, _ = get_top_k_streaming_labels(probs, k=top_k)\n",
        "\n",
        "  images = []\n",
        "  step_generator = tqdm.trange(steps) if use_progbar else range(steps)\n",
        "  for i in step_generator:\n",
        "    image = plot_streaming_top_preds_at_step(\n",
        "        top_probs=top_probs,\n",
        "        top_labels=top_labels,\n",
        "        step=i,\n",
        "        image=video[i],\n",
        "        duration_seconds=duration,\n",
        "        figure_height=figure_height,\n",
        "    )\n",
        "    images.append(image)\n",
        "\n",
        "  return np.array(images)"
      ]
    },
    {
      "cell_type": "markdown",
      "metadata": {
        "id": "eLgFBslcZOQO"
      },
      "source": [
        "Start by running the streaming model across the frames of the video, and collecting the logits:"
      ]
    },
    {
      "cell_type": "code",
      "execution_count": 28,
      "metadata": {
        "id": "tXWR13wthnK5"
      },
      "outputs": [],
      "source": [
        "init_states = model.init_states(jumpingjack[tf.newaxis].shape)"
      ]
    },
    {
      "cell_type": "code",
      "execution_count": 29,
      "metadata": {
        "id": "YqSkt7l8ltwt",
        "colab": {
          "base_uri": "https://localhost:8080/"
        },
        "outputId": "aa5358c3-4a28-4660-9326-b3fc6f8eeec2"
      },
      "outputs": [
        {
          "output_type": "stream",
          "name": "stderr",
          "text": [
            "100%|██████████| 13/13 [00:01<00:00,  7.15it/s]\n"
          ]
        }
      ],
      "source": [
        "# Insert your video clip here\n",
        "video = jumpingjack\n",
        "images = tf.split(video[tf.newaxis], video.shape[0], axis=1)\n",
        "\n",
        "all_logits = []\n",
        "\n",
        "# To run on a video, pass in one frame at a time\n",
        "states = init_states\n",
        "for image in tqdm.tqdm(images):\n",
        "  # predictions for each frame\n",
        "  logits, states = model({**states, 'image': image})\n",
        "  all_logits.append(logits)\n",
        "\n",
        "# concatenating all the logits\n",
        "logits = tf.concat(all_logits, 0)\n",
        "# estimating probabilities\n",
        "probs = tf.nn.softmax(logits, axis=-1)"
      ]
    },
    {
      "cell_type": "code",
      "execution_count": 30,
      "metadata": {
        "id": "OOGcCMMJyuPl",
        "colab": {
          "base_uri": "https://localhost:8080/"
        },
        "outputId": "c7a2aff6-cb56-43b3-d278-8f6bea8e94b5"
      },
      "outputs": [
        {
          "output_type": "stream",
          "name": "stdout",
          "text": [
            "Top_k predictions and their probablities\n",
            "\n",
            "jumping jacks       : 0.999\n",
            "zumba               : 0.000\n",
            "doing aerobics      : 0.000\n",
            "dancing charleston  : 0.000\n",
            "slacklining         : 0.000\n"
          ]
        }
      ],
      "source": [
        "final_probs = probs[-1]\n",
        "print('Top_k predictions and their probablities\\n')\n",
        "for label, p in get_top_k(final_probs):\n",
        "  print(f'{label:20s}: {p:.3f}')"
      ]
    },
    {
      "cell_type": "markdown",
      "metadata": {
        "id": "GaybT0rbZct-"
      },
      "source": [
        "Convert the sequence of probabilities into a video:"
      ]
    },
    {
      "cell_type": "code",
      "execution_count": 31,
      "metadata": {
        "id": "Xdox556CtMRb",
        "colab": {
          "base_uri": "https://localhost:8080/"
        },
        "outputId": "96f6bb1c-6818-4572-ce6d-7cb738c67c96"
      },
      "outputs": [
        {
          "output_type": "stream",
          "name": "stderr",
          "text": [
            "100%|██████████| 13/13 [00:08<00:00,  1.55it/s]\n"
          ]
        }
      ],
      "source": [
        "# Generate a plot and output to a video tensor\n",
        "plot_video = plot_streaming_top_preds(probs, video, video_fps=8.)"
      ]
    },
    {
      "cell_type": "code",
      "execution_count": 32,
      "metadata": {
        "id": "NSStKE9klCs3",
        "colab": {
          "base_uri": "https://localhost:8080/",
          "height": 523
        },
        "outputId": "cf740755-1787-4cfd-e2b0-cf06d7c6e1ff"
      },
      "outputs": [
        {
          "output_type": "display_data",
          "data": {
            "text/plain": [
              "<IPython.core.display.HTML object>"
            ],
            "text/html": [
              "<table class=\"show_videos\" style=\"border-spacing:0px;\"><tr><td style=\"padding:1px;\"><video controls width=\"464\" height=\"500\" style=\"object-fit:cover;\" loop autoplay muted>\n",
              "      <source src=\"data:video/mp4;base64,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\" type=\"video/mp4\"/>\n",
              "      This browser does not support the video tag.\n",
              "      </video></td></tr></table>"
            ]
          },
          "metadata": {}
        }
      ],
      "source": [
        "# For gif format, set codec='gif'\n",
        "media.show_video(plot_video, fps=3)"
      ]
    }
  ],
  "metadata": {
    "colab": {
      "toc_visible": true,
      "provenance": [],
      "include_colab_link": true
    },
    "kernelspec": {
      "display_name": "Python 3",
      "name": "python3"
    }
  },
  "nbformat": 4,
  "nbformat_minor": 0
}